{
  "cells": [
    {
      "cell_type": "code",
      "source": [
        "!pip install pennylane"
      ],
      "metadata": {
        "id": "zXGXyvm2Npx0",
        "colab": {
          "base_uri": "https://localhost:8080/"
        },
        "outputId": "cb1dec0c-bac8-4890-dfe8-a8fe2c6cc6d0"
      },
      "execution_count": 1,
      "outputs": [
        {
          "output_type": "stream",
          "name": "stdout",
          "text": [
            "Collecting pennylane\n",
            "  Downloading PennyLane-0.39.0-py3-none-any.whl.metadata (9.2 kB)\n",
            "Requirement already satisfied: numpy<2.1 in /usr/local/lib/python3.10/dist-packages (from pennylane) (1.26.4)\n",
            "Requirement already satisfied: scipy in /usr/local/lib/python3.10/dist-packages (from pennylane) (1.13.1)\n",
            "Requirement already satisfied: networkx in /usr/local/lib/python3.10/dist-packages (from pennylane) (3.4.2)\n",
            "Collecting rustworkx>=0.14.0 (from pennylane)\n",
            "  Downloading rustworkx-0.15.1-cp38-abi3-manylinux_2_17_x86_64.manylinux2014_x86_64.whl.metadata (9.9 kB)\n",
            "Requirement already satisfied: autograd in /usr/local/lib/python3.10/dist-packages (from pennylane) (1.7.0)\n",
            "Requirement already satisfied: toml in /usr/local/lib/python3.10/dist-packages (from pennylane) (0.10.2)\n",
            "Collecting appdirs (from pennylane)\n",
            "  Downloading appdirs-1.4.4-py2.py3-none-any.whl.metadata (9.0 kB)\n",
            "Collecting autoray>=0.6.11 (from pennylane)\n",
            "  Downloading autoray-0.7.0-py3-none-any.whl.metadata (5.8 kB)\n",
            "Requirement already satisfied: cachetools in /usr/local/lib/python3.10/dist-packages (from pennylane) (5.5.0)\n",
            "Collecting pennylane-lightning>=0.39 (from pennylane)\n",
            "  Downloading PennyLane_Lightning-0.39.0-cp310-cp310-manylinux_2_28_x86_64.whl.metadata (26 kB)\n",
            "Requirement already satisfied: requests in /usr/local/lib/python3.10/dist-packages (from pennylane) (2.32.3)\n",
            "Requirement already satisfied: typing-extensions in /usr/local/lib/python3.10/dist-packages (from pennylane) (4.12.2)\n",
            "Requirement already satisfied: packaging in /usr/local/lib/python3.10/dist-packages (from pennylane) (24.2)\n",
            "Requirement already satisfied: charset-normalizer<4,>=2 in /usr/local/lib/python3.10/dist-packages (from requests->pennylane) (3.4.0)\n",
            "Requirement already satisfied: idna<4,>=2.5 in /usr/local/lib/python3.10/dist-packages (from requests->pennylane) (3.10)\n",
            "Requirement already satisfied: urllib3<3,>=1.21.1 in /usr/local/lib/python3.10/dist-packages (from requests->pennylane) (2.2.3)\n",
            "Requirement already satisfied: certifi>=2017.4.17 in /usr/local/lib/python3.10/dist-packages (from requests->pennylane) (2024.8.30)\n",
            "Downloading PennyLane-0.39.0-py3-none-any.whl (1.9 MB)\n",
            "\u001b[2K   \u001b[90m━━━━━━━━━━━━━━━━━━━━━━━━━━━━━━━━━━━━━━━━\u001b[0m \u001b[32m1.9/1.9 MB\u001b[0m \u001b[31m19.0 MB/s\u001b[0m eta \u001b[36m0:00:00\u001b[0m\n",
            "\u001b[?25hDownloading autoray-0.7.0-py3-none-any.whl (930 kB)\n",
            "\u001b[2K   \u001b[90m━━━━━━━━━━━━━━━━━━━━━━━━━━━━━━━━━━━━━━━━\u001b[0m \u001b[32m930.0/930.0 kB\u001b[0m \u001b[31m22.5 MB/s\u001b[0m eta \u001b[36m0:00:00\u001b[0m\n",
            "\u001b[?25hDownloading PennyLane_Lightning-0.39.0-cp310-cp310-manylinux_2_28_x86_64.whl (1.7 MB)\n",
            "\u001b[2K   \u001b[90m━━━━━━━━━━━━━━━━━━━━━━━━━━━━━━━━━━━━━━━━\u001b[0m \u001b[32m1.7/1.7 MB\u001b[0m \u001b[31m28.7 MB/s\u001b[0m eta \u001b[36m0:00:00\u001b[0m\n",
            "\u001b[?25hDownloading rustworkx-0.15.1-cp38-abi3-manylinux_2_17_x86_64.manylinux2014_x86_64.whl (2.0 MB)\n",
            "\u001b[2K   \u001b[90m━━━━━━━━━━━━━━━━━━━━━━━━━━━━━━━━━━━━━━━━\u001b[0m \u001b[32m2.0/2.0 MB\u001b[0m \u001b[31m43.0 MB/s\u001b[0m eta \u001b[36m0:00:00\u001b[0m\n",
            "\u001b[?25hDownloading appdirs-1.4.4-py2.py3-none-any.whl (9.6 kB)\n",
            "Installing collected packages: appdirs, rustworkx, autoray, pennylane-lightning, pennylane\n",
            "Successfully installed appdirs-1.4.4 autoray-0.7.0 pennylane-0.39.0 pennylane-lightning-0.39.0 rustworkx-0.15.1\n"
          ]
        }
      ]
    },
    {
      "cell_type": "code",
      "source": [
        "!pip install qiskit"
      ],
      "metadata": {
        "id": "8UAKAeelyVmB",
        "colab": {
          "base_uri": "https://localhost:8080/"
        },
        "outputId": "b28d7a52-7738-404e-a415-c8c80feb636f"
      },
      "execution_count": 2,
      "outputs": [
        {
          "output_type": "stream",
          "name": "stdout",
          "text": [
            "Collecting qiskit\n",
            "  Downloading qiskit-1.2.4-cp38-abi3-manylinux_2_17_x86_64.manylinux2014_x86_64.whl.metadata (12 kB)\n",
            "Requirement already satisfied: rustworkx>=0.15.0 in /usr/local/lib/python3.10/dist-packages (from qiskit) (0.15.1)\n",
            "Requirement already satisfied: numpy<3,>=1.17 in /usr/local/lib/python3.10/dist-packages (from qiskit) (1.26.4)\n",
            "Requirement already satisfied: scipy>=1.5 in /usr/local/lib/python3.10/dist-packages (from qiskit) (1.13.1)\n",
            "Requirement already satisfied: sympy>=1.3 in /usr/local/lib/python3.10/dist-packages (from qiskit) (1.13.1)\n",
            "Collecting dill>=0.3 (from qiskit)\n",
            "  Downloading dill-0.3.9-py3-none-any.whl.metadata (10 kB)\n",
            "Requirement already satisfied: python-dateutil>=2.8.0 in /usr/local/lib/python3.10/dist-packages (from qiskit) (2.8.2)\n",
            "Collecting stevedore>=3.0.0 (from qiskit)\n",
            "  Downloading stevedore-5.4.0-py3-none-any.whl.metadata (2.3 kB)\n",
            "Requirement already satisfied: typing-extensions in /usr/local/lib/python3.10/dist-packages (from qiskit) (4.12.2)\n",
            "Collecting symengine<0.14,>=0.11 (from qiskit)\n",
            "  Downloading symengine-0.13.0-cp310-cp310-manylinux_2_17_x86_64.manylinux2014_x86_64.whl.metadata (1.2 kB)\n",
            "Requirement already satisfied: six>=1.5 in /usr/local/lib/python3.10/dist-packages (from python-dateutil>=2.8.0->qiskit) (1.16.0)\n",
            "Collecting pbr>=2.0.0 (from stevedore>=3.0.0->qiskit)\n",
            "  Downloading pbr-6.1.0-py2.py3-none-any.whl.metadata (3.4 kB)\n",
            "Requirement already satisfied: mpmath<1.4,>=1.1.0 in /usr/local/lib/python3.10/dist-packages (from sympy>=1.3->qiskit) (1.3.0)\n",
            "Downloading qiskit-1.2.4-cp38-abi3-manylinux_2_17_x86_64.manylinux2014_x86_64.whl (4.8 MB)\n",
            "\u001b[2K   \u001b[90m━━━━━━━━━━━━━━━━━━━━━━━━━━━━━━━━━━━━━━━━\u001b[0m \u001b[32m4.8/4.8 MB\u001b[0m \u001b[31m35.8 MB/s\u001b[0m eta \u001b[36m0:00:00\u001b[0m\n",
            "\u001b[?25hDownloading dill-0.3.9-py3-none-any.whl (119 kB)\n",
            "\u001b[2K   \u001b[90m━━━━━━━━━━━━━━━━━━━━━━━━━━━━━━━━━━━━━━━━\u001b[0m \u001b[32m119.4/119.4 kB\u001b[0m \u001b[31m7.2 MB/s\u001b[0m eta \u001b[36m0:00:00\u001b[0m\n",
            "\u001b[?25hDownloading stevedore-5.4.0-py3-none-any.whl (49 kB)\n",
            "\u001b[2K   \u001b[90m━━━━━━━━━━━━━━━━━━━━━━━━━━━━━━━━━━━━━━━━\u001b[0m \u001b[32m49.5/49.5 kB\u001b[0m \u001b[31m2.6 MB/s\u001b[0m eta \u001b[36m0:00:00\u001b[0m\n",
            "\u001b[?25hDownloading symengine-0.13.0-cp310-cp310-manylinux_2_17_x86_64.manylinux2014_x86_64.whl (49.7 MB)\n",
            "\u001b[2K   \u001b[90m━━━━━━━━━━━━━━━━━━━━━━━━━━━━━━━━━━━━━━━━\u001b[0m \u001b[32m49.7/49.7 MB\u001b[0m \u001b[31m10.1 MB/s\u001b[0m eta \u001b[36m0:00:00\u001b[0m\n",
            "\u001b[?25hDownloading pbr-6.1.0-py2.py3-none-any.whl (108 kB)\n",
            "\u001b[2K   \u001b[90m━━━━━━━━━━━━━━━━━━━━━━━━━━━━━━━━━━━━━━━━\u001b[0m \u001b[32m108.5/108.5 kB\u001b[0m \u001b[31m6.0 MB/s\u001b[0m eta \u001b[36m0:00:00\u001b[0m\n",
            "\u001b[?25hInstalling collected packages: symengine, pbr, dill, stevedore, qiskit\n",
            "Successfully installed dill-0.3.9 pbr-6.1.0 qiskit-1.2.4 stevedore-5.4.0 symengine-0.13.0\n"
          ]
        }
      ]
    },
    {
      "cell_type": "code",
      "execution_count": 3,
      "metadata": {
        "id": "5N6QodPOzxMB"
      },
      "outputs": [],
      "source": [
        "import numpy as np\n",
        "import torch\n",
        "import torch.nn as nn\n",
        "import torch.nn.functional as F\n",
        "import torch.optim as optim\n",
        "# import qiskit\n",
        "# from qlstm_pennylane import QLSTM"
      ]
    },
    {
      "cell_type": "markdown",
      "metadata": {
        "id": "FeLptWA6zxMC"
      },
      "source": [
        "Here we define the possible tags: determinant, noun, verb."
      ]
    },
    {
      "cell_type": "code",
      "execution_count": 4,
      "metadata": {
        "id": "98L5FysgzxMC"
      },
      "outputs": [],
      "source": [
        "tag_to_ix = {\"DET\": 0, \"NN\": 1, \"V\": 2, \"PRON\":3,  \"ADV\":4, \"ADJ\":5, \"IN\":6}  # Assign each tag with a unique index\n",
        "ix_to_tag = {i:k for k,i in tag_to_ix.items()}"
      ]
    },
    {
      "cell_type": "markdown",
      "metadata": {
        "id": "qFuyoEXEzxMC"
      },
      "source": [
        "The function below tokenizes the sentence and matches the label to each word."
      ]
    },
    {
      "cell_type": "code",
      "execution_count": 5,
      "metadata": {
        "id": "HAIkS4B9zxMD"
      },
      "outputs": [],
      "source": [
        "def prepare_sequence(seq, to_ix):\n",
        "    idxs = [to_ix[w] for w in seq]\n",
        "    return torch.tensor(idxs, dtype=torch.long)"
      ]
    },
    {
      "cell_type": "markdown",
      "metadata": {
        "id": "WJicxsANzxMD"
      },
      "source": [
        "Now we can prepare the input dataset."
      ]
    },
    {
      "cell_type": "code",
      "execution_count": 6,
      "metadata": {
        "colab": {
          "base_uri": "https://localhost:8080/"
        },
        "id": "sqLpTrN7zxMD",
        "outputId": "8e09d913-d1d6-4f73-e9bd-3d4c6b22edb6"
      },
      "outputs": [
        {
          "output_type": "stream",
          "name": "stdout",
          "text": [
            "Vocabulary: {'The': 0, 'dog': 1, 'ate': 2, 'the': 3, 'apple': 4, 'Everybody': 5, 'read': 6, 'that': 7, 'book': 8, 'She': 9, 'sings': 10, 'beautifully': 11, 'big': 12, 'red': 13, 'fell': 14, 'from': 15, 'tree': 16, 'They': 17, 'ran': 18, 'quickly': 19, 'to': 20, 'park': 21, 'He': 22, 'slowly': 23, 'dogs': 24, 'barked': 25, 'loudly': 26, 'tall': 27, 'building': 28, 'stood': 29, 'alone': 30, 'in': 31, 'city': 32, 'a': 33, 'delicious': 34, 'cake': 35, 'for': 36, 'dessert': 37, 'children': 38, 'played': 39, 'happily': 40, 'cats': 41, 'slept': 42, 'on': 43, 'mat.': 44, 'dances': 45, 'gracefully': 46, 'stage.': 47, 'flowers': 48, 'bloomed': 49, 'garden.': 50, 'walked': 51, 'down': 52, 'street.': 53, 'at': 54, 'park.': 55, 'catch': 56, 'bus.': 57, 'yellow': 58, 'sun': 59, 'set': 60, 'over': 61, 'ocean.': 62, 'wore': 63, 'pretty': 64, 'dress': 65, 'party.': 66, 'old': 67, 'men': 68, 'sat': 69, 'bench.': 70, 'cat': 71, 'jumped': 72, 'fence': 73, 'A': 74, 'bird': 75, 'sang': 76, 'morning': 77, 'bus': 78, 'students': 79, 'studied': 80, 'hard': 81, 'exam': 82, 'his': 83, 'dinner': 84, 'quietly': 85, 'shone': 86, 'brightly': 87, 'beach': 88, 'vividly': 89, 'garden': 90, 'peacefully': 91, 'throughout': 92, 'night': 93, 'laughed': 94, 'joyfully': 95, 'joke': 96, 'spoke': 97, 'softly': 98, 'mother': 99, 'baby': 100, 'cried': 101, 'room': 102, 'danced': 103, 'stage': 104, 'horses': 105, 'galloped': 106, 'swiftly': 107, 'across': 108, 'field': 109, 'carefully': 110, 'instructions': 111, 'stranger': 112, 'swam': 113, 'ocean': 114, 'paintings': 115, 'displayed': 116, 'gallery': 117, 'wrote': 118, 'passionately': 119, 'about': 120, 'experiences': 121, 'behind': 122, 'mountains': 123, 'confidently': 124, 'front': 125, 'of': 126, 'audience': 127, 'smiled': 128, 'warmly': 129, 'friends': 130, 'car': 131, 'drove': 132, 'along': 133, 'highway': 134, 'answered': 135, 'question': 136, 'listened': 137, 'attentively': 138, 'lecture': 139, 'climbed': 140, 'bravely': 141, 'mountain': 142, 'peak': 143, 'rain': 144, 'heavily': 145, 'roof': 146, 'frantically': 147, 'colorfully': 148, 'hungrily': 149, 'after': 150, 'long': 151, 'day': 152, 'purred': 153, 'contentedly': 154, 'windowsill': 155, 'enthusiastically': 156, 'playground': 157, 'We': 158, 'heard': 159, 'birds': 160, 'chirping': 161}\n",
            "Entities: {0: 'DET', 1: 'NN', 2: 'V', 3: 'PRON', 4: 'ADV', 5: 'ADJ', 6: 'IN'}\n"
          ]
        }
      ],
      "source": [
        "vocab = [\n",
        "    # Tags are: DET - determiner; NN - noun; V - verb\n",
        "    # For example, the word \"The\" is a determiner\n",
        "    (\"The dog ate the apple\".split(), [\"DET\", \"NN\", \"V\", \"DET\", \"NN\"]),\n",
        "    (\"Everybody read that book\".split(), [\"NN\", \"V\", \"DET\", \"NN\"]),\n",
        "    (\"She sings beautifully\".split(), [\"PRON\", \"V\", \"ADV\"]),\n",
        "    (\"The big red apple fell from the tree\".split(), [\"DET\", \"ADJ\", \"ADJ\", \"NN\", \"V\", \"IN\", \"DET\", \"NN\"]),\n",
        "    (\"They ran quickly to the park\".split(), [\"PRON\", \"V\", \"ADV\", \"IN\", \"DET\", \"NN\"]),\n",
        "    (\"He read the book slowly\".split(), [\"PRON\", \"V\", \"DET\", \"NN\", \"ADV\"]),\n",
        "    (\"The dogs barked loudly\".split(), [\"DET\", \"NN\", \"V\", \"ADV\"]),\n",
        "    (\"The tall building stood alone in the city\".split(), [\"DET\", \"ADJ\", \"NN\", \"V\", \"ADV\", \"IN\", \"DET\", \"NN\"]),\n",
        "    (\"She ate a delicious cake for dessert\".split(), [\"PRON\", \"V\", \"DET\", \"ADJ\", \"NN\", \"IN\", \"NN\"]),\n",
        "    (\"The children played happily in the park\".split(), [\"DET\", \"NN\", \"V\", \"ADV\", \"IN\", \"DET\", \"NN\"]),\n",
        "    ([\"The\", \"cats\", \"slept\", \"on\", \"the\", \"mat.\"], [\"DET\", \"NN\", \"V\", \"IN\", \"DET\", \"NN\"]),\n",
        "    ([\"She\", \"dances\", \"gracefully\", \"on\", \"stage.\"], [\"PRON\", \"V\", \"ADV\", \"IN\", \"NN\"]),\n",
        "    ([\"The\", \"flowers\", \"bloomed\", \"beautifully\", \"in\", \"the\", \"garden.\"], [\"DET\", \"NN\", \"V\", \"ADV\", \"IN\", \"DET\", \"NN\"]),\n",
        "    ([\"He\", \"walked\", \"slowly\", \"down\", \"the\", \"street.\"], [\"PRON\", \"V\", \"ADV\", \"IN\", \"DET\", \"NN\"]),\n",
        "    ([\"The\", \"children\", \"played\", \"happily\", \"at\", \"the\", \"park.\"], [\"DET\", \"NN\", \"V\", \"ADV\", \"IN\", \"DET\", \"NN\"]),\n",
        "    ([\"They\", \"ran\", \"quickly\", \"to\", \"catch\", \"the\", \"bus.\"], [\"PRON\", \"V\", \"ADV\", \"IN\", \"V\", \"DET\", \"NN\"]),\n",
        "    ([\"The\", \"big\", \"yellow\", \"sun\", \"set\", \"over\", \"the\", \"ocean.\"], [\"DET\", \"ADJ\", \"ADJ\", \"NN\", \"V\", \"IN\", \"DET\", \"NN\"]),\n",
        "    ([\"She\", \"wore\", \"a\", \"pretty\", \"dress\", \"to\", \"the\", \"party.\"], [\"PRON\", \"V\", \"DET\", \"ADJ\", \"NN\", \"IN\", \"DET\", \"NN\"]),\n",
        "    ([\"The\", \"old\", \"men\", \"sat\", \"alone\", \"on\", \"the\", \"bench.\"], [\"DET\", \"ADJ\", \"NN\", \"V\", \"ADV\", \"IN\", \"DET\", \"NN\"]),\n",
        "    ([\"The\", \"cat\", \"jumped\", \"over\", \"the\", \"fence\"], [\"DET\", \"NN\", \"V\", \"IN\", \"DET\", \"NN\"]),\n",
        "    ([\"A\", \"bird\", \"sang\", \"beautifully\", \"in\", \"the\", \"morning\"], [\"DET\", \"NN\", \"V\", \"ADV\", \"IN\", \"DET\", \"NN\"]),\n",
        "    ([\"She\", \"ran\", \"quickly\", \"to\", \"catch\", \"the\", \"bus\"], [\"PRON\", \"V\", \"ADV\", \"IN\", \"V\", \"DET\", \"NN\"]),\n",
        "    ([\"The\", \"students\", \"studied\", \"hard\", \"for\", \"the\", \"exam\"], [\"DET\", \"NN\", \"V\", \"ADJ\", \"IN\", \"DET\", \"NN\"]),\n",
        "    ([\"He\", \"ate\", \"his\", \"dinner\", \"quietly\"], [\"PRON\", \"V\", \"DET\", \"NN\", \"ADV\"]),\n",
        "    ([\"The\", \"sun\", \"shone\", \"brightly\", \"on\", \"the\", \"beach\"], [\"DET\", \"NN\", \"V\", \"ADV\", \"IN\", \"DET\", \"NN\"]),\n",
        "    ([\"They\", \"played\", \"happily\", \"in\", \"the\", \"park\"], [\"PRON\", \"V\", \"ADV\", \"IN\", \"DET\", \"NN\"]),\n",
        "    ([\"The\", \"flowers\", \"bloomed\", \"vividly\", \"in\", \"the\", \"garden\"], [\"DET\", \"NN\", \"V\", \"ADV\", \"IN\", \"DET\", \"NN\"]),\n",
        "    ([\"She\", \"slept\", \"peacefully\", \"throughout\", \"the\", \"night\"], [\"PRON\", \"V\", \"ADV\", \"IN\", \"DET\", \"NN\"]),\n",
        "    ([\"The\", \"children\", \"laughed\", \"joyfully\", \"at\", \"the\", \"joke\"], [\"DET\", \"NN\", \"V\", \"ADV\", \"IN\", \"DET\", \"NN\"]),\n",
        "    ([\"He\", \"spoke\", \"softly\", \"to\", \"his\", \"mother\"], [\"PRON\", \"V\", \"ADV\", \"IN\", \"DET\", \"NN\"]),\n",
        "    ([\"The\", \"baby\", \"cried\", \"loudly\", \"in\", \"the\", \"room\"], [\"DET\", \"NN\", \"V\", \"ADV\", \"IN\", \"DET\", \"NN\"]),\n",
        "    ([\"They\", \"danced\", \"gracefully\", \"on\", \"the\", \"stage\"], [\"PRON\", \"V\", \"ADV\", \"IN\", \"DET\", \"NN\"]),\n",
        "    ([\"The\", \"horses\", \"galloped\", \"swiftly\", \"across\", \"the\", \"field\"], [\"DET\", \"NN\", \"V\", \"ADV\", \"IN\", \"DET\", \"NN\"]),\n",
        "    ([\"She\", \"read\", \"carefully\", \"the\", \"instructions\"], [\"PRON\", \"V\", \"ADV\", \"DET\", \"NN\"]),\n",
        "    ([\"The\", \"dog\", \"barked\", \"loudly\", \"at\", \"the\", \"stranger\"], [\"DET\", \"NN\", \"V\", \"ADV\", \"IN\", \"DET\", \"NN\"]),\n",
        "    ([\"They\", \"swam\", \"gracefully\", \"in\", \"the\", \"ocean\"], [\"PRON\", \"V\", \"ADV\", \"IN\", \"DET\", \"NN\"]),\n",
        "    ([\"The\", \"paintings\", \"displayed\", \"beautifully\", \"in\", \"the\", \"gallery\"], [\"DET\", \"NN\", \"V\", \"ADV\", \"IN\", \"DET\", \"NN\"]),\n",
        "    ([\"He\", \"wrote\", \"passionately\", \"about\", \"his\", \"experiences\"], [\"PRON\", \"V\", \"ADV\", \"IN\", \"DET\", \"NN\"]),\n",
        "    ([\"The\", \"sun\", \"set\", \"slowly\", \"behind\", \"the\", \"mountains\"], [\"DET\", \"NN\", \"V\", \"ADV\", \"IN\", \"DET\", \"NN\"]),\n",
        "    ([\"She\", \"spoke\", \"confidently\", \"in\", \"front\", \"of\", \"the\", \"audience\"], [\"PRON\", \"V\", \"ADV\", \"IN\", \"NN\", \"IN\", \"DET\", \"NN\"]),\n",
        "    ([\"The\", \"children\", \"played\", \"happily\", \"in\", \"the\", \"park\"], [\"DET\", \"NN\", \"V\", \"ADV\", \"IN\", \"DET\", \"NN\"]),\n",
        "    ([\"He\", \"smiled\", \"warmly\", \"at\", \"his\", \"friends\"], [\"PRON\", \"V\", \"ADV\", \"IN\", \"DET\", \"NN\"]),\n",
        "    ([\"The\", \"car\", \"drove\", \"swiftly\", \"along\", \"the\", \"highway\"], [\"DET\", \"NN\", \"V\", \"ADV\", \"IN\", \"DET\", \"NN\"]),\n",
        "    ([\"She\", \"answered\", \"quickly\", \"to\", \"his\", \"question\"], [\"PRON\", \"V\", \"ADV\", \"IN\", \"DET\", \"NN\"]),\n",
        "    ([\"The\", \"students\", \"listened\", \"attentively\", \"to\", \"the\", \"lecture\"], [\"DET\", \"NN\", \"V\", \"ADV\", \"IN\", \"DET\", \"NN\"]),\n",
        "    ([\"They\", \"climbed\", \"bravely\", \"to\", \"the\", \"mountain\", \"peak\"], [\"PRON\", \"V\", \"ADV\", \"IN\", \"DET\", \"NN\", \"NN\"]),\n",
        "    ([\"The\", \"rain\", \"fell\", \"heavily\", \"on\", \"the\", \"roof\"], [\"DET\", \"NN\", \"V\", \"ADV\", \"IN\", \"DET\", \"NN\"]),\n",
        "    ([\"She\", \"ran\", \"frantically\", \"to\", \"catch\", \"the\", \"bus\"], [\"PRON\", \"V\", \"ADV\", \"IN\", \"V\", \"DET\", \"NN\"]),\n",
        "    ([\"The\", \"flowers\", \"bloomed\", \"colorfully\", \"in\", \"the\", \"garden\"], [\"DET\", \"NN\", \"V\", \"ADV\", \"IN\", \"DET\", \"NN\"]),\n",
        "    ([\"He\", \"ate\", \"hungrily\", \"after\", \"a\", \"long\", \"day\"], [\"PRON\", \"V\", \"ADV\", \"IN\", \"DET\", \"ADJ\", \"NN\"]),\n",
        "    ([\"The\", \"cat\", \"purred\", \"contentedly\", \"on\", \"the\", \"windowsill\"], [\"DET\", \"NN\", \"V\", \"ADV\", \"IN\", \"DET\", \"NN\"]),\n",
        "    ([\"They\", \"played\", \"enthusiastically\", \"in\", \"the\", \"playground\"], [\"PRON\", \"V\", \"ADV\", \"IN\", \"DET\", \"NN\"]),\n",
        "    (\"We heard the birds chirping loudly in the morning\".split(), [\"PRON\", \"V\", \"DET\", \"NN\", \"V\", \"ADV\", \"IN\", \"DET\", \"NN\"]),\n",
        "]\n",
        "word_to_ix = {}\n",
        "training_data=vocab[:len(vocab)-1]\n",
        "# For each words-list (sentence) and tags-list in each tuple of training_data\n",
        "for sent, tags in vocab:\n",
        "    for word in sent:\n",
        "        if word not in word_to_ix:  # word has not been assigned an index yet\n",
        "            word_to_ix[word] = len(word_to_ix)  # Assign each word with a unique index\n",
        "\n",
        "print(f\"Vocabulary: {word_to_ix}\")\n",
        "print(f\"Entities: {ix_to_tag}\")"
      ]
    },
    {
      "cell_type": "code",
      "source": [
        "training_data"
      ],
      "metadata": {
        "colab": {
          "base_uri": "https://localhost:8080/"
        },
        "id": "gwySJCUnVhDH",
        "outputId": "7ee4ed44-ad06-4c7e-b713-abdb7bc582ad"
      },
      "execution_count": 7,
      "outputs": [
        {
          "output_type": "execute_result",
          "data": {
            "text/plain": [
              "[(['The', 'dog', 'ate', 'the', 'apple'], ['DET', 'NN', 'V', 'DET', 'NN']),\n",
              " (['Everybody', 'read', 'that', 'book'], ['NN', 'V', 'DET', 'NN']),\n",
              " (['She', 'sings', 'beautifully'], ['PRON', 'V', 'ADV']),\n",
              " (['The', 'big', 'red', 'apple', 'fell', 'from', 'the', 'tree'],\n",
              "  ['DET', 'ADJ', 'ADJ', 'NN', 'V', 'IN', 'DET', 'NN']),\n",
              " (['They', 'ran', 'quickly', 'to', 'the', 'park'],\n",
              "  ['PRON', 'V', 'ADV', 'IN', 'DET', 'NN']),\n",
              " (['He', 'read', 'the', 'book', 'slowly'], ['PRON', 'V', 'DET', 'NN', 'ADV']),\n",
              " (['The', 'dogs', 'barked', 'loudly'], ['DET', 'NN', 'V', 'ADV']),\n",
              " (['The', 'tall', 'building', 'stood', 'alone', 'in', 'the', 'city'],\n",
              "  ['DET', 'ADJ', 'NN', 'V', 'ADV', 'IN', 'DET', 'NN']),\n",
              " (['She', 'ate', 'a', 'delicious', 'cake', 'for', 'dessert'],\n",
              "  ['PRON', 'V', 'DET', 'ADJ', 'NN', 'IN', 'NN']),\n",
              " (['The', 'children', 'played', 'happily', 'in', 'the', 'park'],\n",
              "  ['DET', 'NN', 'V', 'ADV', 'IN', 'DET', 'NN']),\n",
              " (['The', 'cats', 'slept', 'on', 'the', 'mat.'],\n",
              "  ['DET', 'NN', 'V', 'IN', 'DET', 'NN']),\n",
              " (['She', 'dances', 'gracefully', 'on', 'stage.'],\n",
              "  ['PRON', 'V', 'ADV', 'IN', 'NN']),\n",
              " (['The', 'flowers', 'bloomed', 'beautifully', 'in', 'the', 'garden.'],\n",
              "  ['DET', 'NN', 'V', 'ADV', 'IN', 'DET', 'NN']),\n",
              " (['He', 'walked', 'slowly', 'down', 'the', 'street.'],\n",
              "  ['PRON', 'V', 'ADV', 'IN', 'DET', 'NN']),\n",
              " (['The', 'children', 'played', 'happily', 'at', 'the', 'park.'],\n",
              "  ['DET', 'NN', 'V', 'ADV', 'IN', 'DET', 'NN']),\n",
              " (['They', 'ran', 'quickly', 'to', 'catch', 'the', 'bus.'],\n",
              "  ['PRON', 'V', 'ADV', 'IN', 'V', 'DET', 'NN']),\n",
              " (['The', 'big', 'yellow', 'sun', 'set', 'over', 'the', 'ocean.'],\n",
              "  ['DET', 'ADJ', 'ADJ', 'NN', 'V', 'IN', 'DET', 'NN']),\n",
              " (['She', 'wore', 'a', 'pretty', 'dress', 'to', 'the', 'party.'],\n",
              "  ['PRON', 'V', 'DET', 'ADJ', 'NN', 'IN', 'DET', 'NN']),\n",
              " (['The', 'old', 'men', 'sat', 'alone', 'on', 'the', 'bench.'],\n",
              "  ['DET', 'ADJ', 'NN', 'V', 'ADV', 'IN', 'DET', 'NN']),\n",
              " (['The', 'cat', 'jumped', 'over', 'the', 'fence'],\n",
              "  ['DET', 'NN', 'V', 'IN', 'DET', 'NN']),\n",
              " (['A', 'bird', 'sang', 'beautifully', 'in', 'the', 'morning'],\n",
              "  ['DET', 'NN', 'V', 'ADV', 'IN', 'DET', 'NN']),\n",
              " (['She', 'ran', 'quickly', 'to', 'catch', 'the', 'bus'],\n",
              "  ['PRON', 'V', 'ADV', 'IN', 'V', 'DET', 'NN']),\n",
              " (['The', 'students', 'studied', 'hard', 'for', 'the', 'exam'],\n",
              "  ['DET', 'NN', 'V', 'ADJ', 'IN', 'DET', 'NN']),\n",
              " (['He', 'ate', 'his', 'dinner', 'quietly'],\n",
              "  ['PRON', 'V', 'DET', 'NN', 'ADV']),\n",
              " (['The', 'sun', 'shone', 'brightly', 'on', 'the', 'beach'],\n",
              "  ['DET', 'NN', 'V', 'ADV', 'IN', 'DET', 'NN']),\n",
              " (['They', 'played', 'happily', 'in', 'the', 'park'],\n",
              "  ['PRON', 'V', 'ADV', 'IN', 'DET', 'NN']),\n",
              " (['The', 'flowers', 'bloomed', 'vividly', 'in', 'the', 'garden'],\n",
              "  ['DET', 'NN', 'V', 'ADV', 'IN', 'DET', 'NN']),\n",
              " (['She', 'slept', 'peacefully', 'throughout', 'the', 'night'],\n",
              "  ['PRON', 'V', 'ADV', 'IN', 'DET', 'NN']),\n",
              " (['The', 'children', 'laughed', 'joyfully', 'at', 'the', 'joke'],\n",
              "  ['DET', 'NN', 'V', 'ADV', 'IN', 'DET', 'NN']),\n",
              " (['He', 'spoke', 'softly', 'to', 'his', 'mother'],\n",
              "  ['PRON', 'V', 'ADV', 'IN', 'DET', 'NN']),\n",
              " (['The', 'baby', 'cried', 'loudly', 'in', 'the', 'room'],\n",
              "  ['DET', 'NN', 'V', 'ADV', 'IN', 'DET', 'NN']),\n",
              " (['They', 'danced', 'gracefully', 'on', 'the', 'stage'],\n",
              "  ['PRON', 'V', 'ADV', 'IN', 'DET', 'NN']),\n",
              " (['The', 'horses', 'galloped', 'swiftly', 'across', 'the', 'field'],\n",
              "  ['DET', 'NN', 'V', 'ADV', 'IN', 'DET', 'NN']),\n",
              " (['She', 'read', 'carefully', 'the', 'instructions'],\n",
              "  ['PRON', 'V', 'ADV', 'DET', 'NN']),\n",
              " (['The', 'dog', 'barked', 'loudly', 'at', 'the', 'stranger'],\n",
              "  ['DET', 'NN', 'V', 'ADV', 'IN', 'DET', 'NN']),\n",
              " (['They', 'swam', 'gracefully', 'in', 'the', 'ocean'],\n",
              "  ['PRON', 'V', 'ADV', 'IN', 'DET', 'NN']),\n",
              " (['The', 'paintings', 'displayed', 'beautifully', 'in', 'the', 'gallery'],\n",
              "  ['DET', 'NN', 'V', 'ADV', 'IN', 'DET', 'NN']),\n",
              " (['He', 'wrote', 'passionately', 'about', 'his', 'experiences'],\n",
              "  ['PRON', 'V', 'ADV', 'IN', 'DET', 'NN']),\n",
              " (['The', 'sun', 'set', 'slowly', 'behind', 'the', 'mountains'],\n",
              "  ['DET', 'NN', 'V', 'ADV', 'IN', 'DET', 'NN']),\n",
              " (['She', 'spoke', 'confidently', 'in', 'front', 'of', 'the', 'audience'],\n",
              "  ['PRON', 'V', 'ADV', 'IN', 'NN', 'IN', 'DET', 'NN']),\n",
              " (['The', 'children', 'played', 'happily', 'in', 'the', 'park'],\n",
              "  ['DET', 'NN', 'V', 'ADV', 'IN', 'DET', 'NN']),\n",
              " (['He', 'smiled', 'warmly', 'at', 'his', 'friends'],\n",
              "  ['PRON', 'V', 'ADV', 'IN', 'DET', 'NN']),\n",
              " (['The', 'car', 'drove', 'swiftly', 'along', 'the', 'highway'],\n",
              "  ['DET', 'NN', 'V', 'ADV', 'IN', 'DET', 'NN']),\n",
              " (['She', 'answered', 'quickly', 'to', 'his', 'question'],\n",
              "  ['PRON', 'V', 'ADV', 'IN', 'DET', 'NN']),\n",
              " (['The', 'students', 'listened', 'attentively', 'to', 'the', 'lecture'],\n",
              "  ['DET', 'NN', 'V', 'ADV', 'IN', 'DET', 'NN']),\n",
              " (['They', 'climbed', 'bravely', 'to', 'the', 'mountain', 'peak'],\n",
              "  ['PRON', 'V', 'ADV', 'IN', 'DET', 'NN', 'NN']),\n",
              " (['The', 'rain', 'fell', 'heavily', 'on', 'the', 'roof'],\n",
              "  ['DET', 'NN', 'V', 'ADV', 'IN', 'DET', 'NN']),\n",
              " (['She', 'ran', 'frantically', 'to', 'catch', 'the', 'bus'],\n",
              "  ['PRON', 'V', 'ADV', 'IN', 'V', 'DET', 'NN']),\n",
              " (['The', 'flowers', 'bloomed', 'colorfully', 'in', 'the', 'garden'],\n",
              "  ['DET', 'NN', 'V', 'ADV', 'IN', 'DET', 'NN']),\n",
              " (['He', 'ate', 'hungrily', 'after', 'a', 'long', 'day'],\n",
              "  ['PRON', 'V', 'ADV', 'IN', 'DET', 'ADJ', 'NN']),\n",
              " (['The', 'cat', 'purred', 'contentedly', 'on', 'the', 'windowsill'],\n",
              "  ['DET', 'NN', 'V', 'ADV', 'IN', 'DET', 'NN']),\n",
              " (['They', 'played', 'enthusiastically', 'in', 'the', 'playground'],\n",
              "  ['PRON', 'V', 'ADV', 'IN', 'DET', 'NN'])]"
            ]
          },
          "metadata": {},
          "execution_count": 7
        }
      ]
    },
    {
      "cell_type": "code",
      "source": [
        "import torch\n",
        "import torch.nn as nn\n",
        "\n",
        "import pennylane as qml\n",
        "\n",
        "\n",
        "class QLSTM(nn.Module):\n",
        "    def __init__(self,\n",
        "                input_size,\n",
        "                hidden_size,\n",
        "                n_qubits=4,\n",
        "                n_qlayers=1,\n",
        "                batch_first=True,\n",
        "                return_sequences=False,\n",
        "                return_state=False,\n",
        "                backend=\"default.qubit\"):\n",
        "        super(QLSTM, self).__init__()\n",
        "        self.n_inputs = input_size\n",
        "        self.hidden_size = hidden_size\n",
        "        self.concat_size = self.n_inputs + self.hidden_size\n",
        "        self.n_qubits = n_qubits\n",
        "        self.n_qlayers = n_qlayers\n",
        "        self.backend = backend  # \"default.qubit\", \"qiskit.basicaer\", \"qiskit.ibm\"\n",
        "\n",
        "        self.batch_first = batch_first\n",
        "        self.return_sequences = return_sequences\n",
        "        self.return_state = return_state\n",
        "\n",
        "        #self.dev = qml.device(\"default.qubit\", wires=self.n_qubits)\n",
        "        #self.dev = qml.device('qiskit.basicaer', wires=self.n_qubits)\n",
        "        #self.dev = qml.device('qiskit.ibm', wires=self.n_qubits)\n",
        "        # use 'qiskit.ibmq' instead to run on hardware\n",
        "\n",
        "        self.wires_forget = [f\"wire_forget_{i}\" for i in range(self.n_qubits)]\n",
        "        self.wires_input = [f\"wire_input_{i}\" for i in range(self.n_qubits)]\n",
        "        self.wires_update = [f\"wire_update_{i}\" for i in range(self.n_qubits)]\n",
        "        self.wires_output = [f\"wire_output_{i}\" for i in range(self.n_qubits)]\n",
        "\n",
        "        self.dev_forget = qml.device(self.backend, wires=self.wires_forget)\n",
        "        self.dev_input = qml.device(self.backend, wires=self.wires_input)\n",
        "        self.dev_update = qml.device(self.backend, wires=self.wires_update)\n",
        "        self.dev_output = qml.device(self.backend, wires=self.wires_output)\n",
        "\n",
        "        def _circuit_forget(inputs, weights):\n",
        "            qml.templates.AngleEmbedding(inputs, wires=self.wires_forget)\n",
        "            qml.templates.BasicEntanglerLayers(weights, wires=self.wires_forget)\n",
        "            return [qml.expval(qml.PauliZ(wires=w)) for w in self.wires_forget]\n",
        "        self.qlayer_forget = qml.QNode(_circuit_forget, self.dev_forget, interface=\"torch\")\n",
        "\n",
        "        def _circuit_input(inputs, weights):\n",
        "            qml.templates.AngleEmbedding(inputs, wires=self.wires_input)\n",
        "            qml.templates.BasicEntanglerLayers(weights, wires=self.wires_input)\n",
        "            return [qml.expval(qml.PauliZ(wires=w)) for w in self.wires_input]\n",
        "        self.qlayer_input = qml.QNode(_circuit_input, self.dev_input, interface=\"torch\")\n",
        "\n",
        "        def _circuit_update(inputs, weights):\n",
        "            qml.templates.AngleEmbedding(inputs, wires=self.wires_update)\n",
        "            qml.templates.BasicEntanglerLayers(weights, wires=self.wires_update)\n",
        "            return [qml.expval(qml.PauliZ(wires=w)) for w in self.wires_update]\n",
        "        self.qlayer_update = qml.QNode(_circuit_update, self.dev_update, interface=\"torch\")\n",
        "\n",
        "        def _circuit_output(inputs, weights):\n",
        "            qml.templates.AngleEmbedding(inputs, wires=self.wires_output)\n",
        "            qml.templates.BasicEntanglerLayers(weights, wires=self.wires_output)\n",
        "            return [qml.expval(qml.PauliZ(wires=w)) for w in self.wires_output]\n",
        "        self.qlayer_output = qml.QNode(_circuit_output, self.dev_output, interface=\"torch\")\n",
        "\n",
        "        weight_shapes = {\"weights\": (n_qlayers, n_qubits)}\n",
        "        print(f\"weight_shapes = (n_qlayers, n_qubits) = ({n_qlayers}, {n_qubits})\")\n",
        "\n",
        "        self.clayer_in = torch.nn.Linear(self.concat_size, n_qubits)\n",
        "        self.VQC = {\n",
        "            'forget': qml.qnn.TorchLayer(self.qlayer_forget, weight_shapes),\n",
        "            'input': qml.qnn.TorchLayer(self.qlayer_input, weight_shapes),\n",
        "            'update': qml.qnn.TorchLayer(self.qlayer_update, weight_shapes),\n",
        "            'output': qml.qnn.TorchLayer(self.qlayer_output, weight_shapes)\n",
        "        }\n",
        "        self.clayer_out = torch.nn.Linear(self.n_qubits, self.hidden_size)\n",
        "        #self.clayer_out = [torch.nn.Linear(n_qubits, self.hidden_size) for _ in range(4)]\n",
        "\n",
        "    def forward(self, x, init_states=None):\n",
        "        '''\n",
        "        x.shape is (batch_size, seq_length, feature_size)\n",
        "        recurrent_activation -> sigmoid\n",
        "        activation -> tanh\n",
        "        '''\n",
        "        if self.batch_first is True:\n",
        "            batch_size, seq_length, features_size = x.size()\n",
        "        else:\n",
        "            seq_length, batch_size, features_size = x.size()\n",
        "\n",
        "        hidden_seq = []\n",
        "        if init_states is None:\n",
        "            h_t = torch.zeros(batch_size, self.hidden_size)  # hidden state (output)\n",
        "            c_t = torch.zeros(batch_size, self.hidden_size)  # cell state\n",
        "        else:\n",
        "            # for now we ignore the fact that in PyTorch you can stack multiple RNNs\n",
        "            # so we take only the first elements of the init_states tuple init_states[0][0], init_states[1][0]\n",
        "            h_t, c_t = init_states\n",
        "            h_t = h_t[0]\n",
        "            c_t = c_t[0]\n",
        "\n",
        "        for t in range(seq_length):\n",
        "            # get features from the t-th element in seq, for all entries in the batch\n",
        "            x_t = x[:, t, :]\n",
        "\n",
        "            # Concatenate input and hidden state\n",
        "            v_t = torch.cat((h_t, x_t), dim=1)\n",
        "\n",
        "            # match qubit dimension\n",
        "            y_t = self.clayer_in(v_t)\n",
        "\n",
        "            f_t = torch.sigmoid(self.clayer_out(self.VQC['forget'](y_t)))  # forget block\n",
        "            i_t = torch.sigmoid(self.clayer_out(self.VQC['input'](y_t)))  # input block\n",
        "            g_t = torch.tanh(self.clayer_out(self.VQC['update'](y_t)))  # update block\n",
        "            o_t = torch.sigmoid(self.clayer_out(self.VQC['output'](y_t))) # output block\n",
        "\n",
        "            c_t = (f_t * c_t) + (i_t * g_t)\n",
        "            h_t = o_t * torch.tanh(c_t)\n",
        "\n",
        "            hidden_seq.append(h_t.unsqueeze(0))\n",
        "        hidden_seq = torch.cat(hidden_seq, dim=0)\n",
        "        hidden_seq = hidden_seq.transpose(0, 1).contiguous()\n",
        "        return hidden_seq, (h_t, c_t)\n"
      ],
      "metadata": {
        "id": "kvoDyjMMN9NR"
      },
      "execution_count": 8,
      "outputs": []
    },
    {
      "cell_type": "code",
      "execution_count": 9,
      "metadata": {
        "id": "Hta5OmUmzxME"
      },
      "outputs": [],
      "source": [
        "class LSTMTagger(nn.Module):\n",
        "\n",
        "    def __init__(self, embedding_dim, hidden_dim, vocab_size, tagset_size, n_qubits=0):\n",
        "        super(LSTMTagger, self).__init__()\n",
        "        self.hidden_dim = hidden_dim\n",
        "\n",
        "        self.word_embeddings = nn.Embedding(vocab_size, embedding_dim)\n",
        "\n",
        "        # The LSTM takes word embeddings as inputs, and outputs hidden states\n",
        "        # with dimensionality hidden_dim.\n",
        "        if n_qubits > 0:\n",
        "            print(\"Tagger will use Quantum LSTM\")\n",
        "            self.lstm = QLSTM(embedding_dim, hidden_dim, n_qubits=n_qubits)\n",
        "        else:\n",
        "            print(\"Tagger will use Classical LSTM\")\n",
        "            self.lstm = nn.LSTM(embedding_dim, hidden_dim)\n",
        "\n",
        "        # The linear layer that maps from hidden state space to tag space\n",
        "        self.hidden2tag = nn.Linear(hidden_dim, tagset_size)\n",
        "\n",
        "    def forward(self, sentence):\n",
        "        embeds = self.word_embeddings(sentence)\n",
        "        lstm_out, _ = self.lstm(embeds.view(len(sentence), 1, -1))\n",
        "        tag_logits = self.hidden2tag(lstm_out.view(len(sentence), -1))\n",
        "        tag_scores = F.log_softmax(tag_logits, dim=1)\n",
        "        return tag_scores"
      ]
    },
    {
      "cell_type": "code",
      "execution_count": 10,
      "metadata": {
        "id": "QuyZlHVKzxME"
      },
      "outputs": [],
      "source": [
        "embedding_dim = 8\n",
        "hidden_dim = 6\n",
        "n_epochs = 100"
      ]
    },
    {
      "cell_type": "code",
      "execution_count": 11,
      "metadata": {
        "colab": {
          "base_uri": "https://localhost:8080/"
        },
        "id": "t9LJiMsBzxMF",
        "outputId": "a31f766f-e830-40cc-ec89-0dd35fd6d035"
      },
      "outputs": [
        {
          "output_type": "stream",
          "name": "stdout",
          "text": [
            "Tagger will use Classical LSTM\n"
          ]
        }
      ],
      "source": [
        "model_classical = LSTMTagger(embedding_dim,\n",
        "                        hidden_dim,\n",
        "                        vocab_size=len(word_to_ix),\n",
        "                        tagset_size=len(tag_to_ix),\n",
        "                        n_qubits=0)"
      ]
    },
    {
      "cell_type": "markdown",
      "metadata": {
        "id": "WuCrZc9fzxMF"
      },
      "source": [
        "## Training"
      ]
    },
    {
      "cell_type": "markdown",
      "metadata": {
        "id": "BLZYTFQwzxMF"
      },
      "source": [
        "Following the example from the PyTorch website, we train the two networks (classical and quantum LSTM) for 300 epochs."
      ]
    },
    {
      "cell_type": "code",
      "execution_count": 12,
      "metadata": {
        "id": "ZzcGZlk3zxMF"
      },
      "outputs": [],
      "source": [
        "def train(model, n_epochs):\n",
        "    loss_function = nn.NLLLoss()\n",
        "    optimizer = optim.SGD(model.parameters(), lr=0.1)\n",
        "\n",
        "    history = {\n",
        "        'loss': [],\n",
        "        'acc': []\n",
        "    }\n",
        "    for epoch in range(n_epochs):\n",
        "        losses = []\n",
        "        preds = []\n",
        "        targets = []\n",
        "        for sentence, tags in training_data:\n",
        "            # Step 1. Remember that Pytorch accumulates gradients.\n",
        "            # We need to clear them out before each instance\n",
        "            model.zero_grad()\n",
        "\n",
        "            # Step 2. Get our inputs ready for the network, that is, turn them into\n",
        "            # Tensors of word indices.\n",
        "            sentence_in = prepare_sequence(sentence, word_to_ix)\n",
        "            labels = prepare_sequence(tags, tag_to_ix)\n",
        "\n",
        "            # Step 3. Run our forward pass.\n",
        "            tag_scores = model(sentence_in)\n",
        "\n",
        "            # Step 4. Compute the loss, gradients, and update the parameters by\n",
        "            #  calling optimizer.step()\n",
        "            loss = loss_function(tag_scores, labels)\n",
        "            loss.backward()\n",
        "            optimizer.step()\n",
        "            losses.append(float(loss))\n",
        "\n",
        "            probs = torch.softmax(tag_scores, dim=-1)\n",
        "            preds.append(probs.argmax(dim=-1))\n",
        "            targets.append(labels)\n",
        "\n",
        "        avg_loss = np.mean(losses)\n",
        "        history['loss'].append(avg_loss)\n",
        "\n",
        "        preds = torch.cat(preds)\n",
        "        targets = torch.cat(targets)\n",
        "        corrects = (preds == targets)\n",
        "        accuracy = corrects.sum().float() / float(targets.size(0) )\n",
        "        history['acc'].append(accuracy)\n",
        "\n",
        "        print(f\"Epoch {epoch+1} / {n_epochs}: Loss = {avg_loss:.3f} Acc = {accuracy:.2f}\")\n",
        "\n",
        "    return history"
      ]
    },
    {
      "cell_type": "code",
      "execution_count": 13,
      "metadata": {
        "colab": {
          "base_uri": "https://localhost:8080/"
        },
        "id": "oEFnWoV4zxMG",
        "outputId": "e1e38604-2a27-4c6b-d22a-e24e29fe0de1"
      },
      "outputs": [
        {
          "output_type": "stream",
          "name": "stdout",
          "text": [
            "Epoch 1 / 100: Loss = 1.852 Acc = 0.24\n",
            "Epoch 2 / 100: Loss = 1.761 Acc = 0.31\n",
            "Epoch 3 / 100: Loss = 1.698 Acc = 0.33\n",
            "Epoch 4 / 100: Loss = 1.632 Acc = 0.37\n",
            "Epoch 5 / 100: Loss = 1.561 Acc = 0.44\n",
            "Epoch 6 / 100: Loss = 1.489 Acc = 0.47\n",
            "Epoch 7 / 100: Loss = 1.419 Acc = 0.48\n",
            "Epoch 8 / 100: Loss = 1.352 Acc = 0.51\n",
            "Epoch 9 / 100: Loss = 1.287 Acc = 0.54\n",
            "Epoch 10 / 100: Loss = 1.223 Acc = 0.58\n",
            "Epoch 11 / 100: Loss = 1.161 Acc = 0.64\n",
            "Epoch 12 / 100: Loss = 1.102 Acc = 0.66\n",
            "Epoch 13 / 100: Loss = 1.045 Acc = 0.67\n",
            "Epoch 14 / 100: Loss = 0.991 Acc = 0.69\n",
            "Epoch 15 / 100: Loss = 0.940 Acc = 0.70\n",
            "Epoch 16 / 100: Loss = 0.891 Acc = 0.70\n",
            "Epoch 17 / 100: Loss = 0.844 Acc = 0.69\n",
            "Epoch 18 / 100: Loss = 0.798 Acc = 0.71\n",
            "Epoch 19 / 100: Loss = 0.756 Acc = 0.72\n",
            "Epoch 20 / 100: Loss = 0.717 Acc = 0.73\n",
            "Epoch 21 / 100: Loss = 0.678 Acc = 0.75\n",
            "Epoch 22 / 100: Loss = 0.640 Acc = 0.77\n",
            "Epoch 23 / 100: Loss = 0.605 Acc = 0.77\n",
            "Epoch 24 / 100: Loss = 0.573 Acc = 0.80\n",
            "Epoch 25 / 100: Loss = 0.543 Acc = 0.83\n",
            "Epoch 26 / 100: Loss = 0.514 Acc = 0.84\n",
            "Epoch 27 / 100: Loss = 0.487 Acc = 0.85\n",
            "Epoch 28 / 100: Loss = 0.462 Acc = 0.87\n",
            "Epoch 29 / 100: Loss = 0.438 Acc = 0.88\n",
            "Epoch 30 / 100: Loss = 0.417 Acc = 0.88\n",
            "Epoch 31 / 100: Loss = 0.397 Acc = 0.90\n",
            "Epoch 32 / 100: Loss = 0.378 Acc = 0.91\n",
            "Epoch 33 / 100: Loss = 0.359 Acc = 0.91\n",
            "Epoch 34 / 100: Loss = 0.342 Acc = 0.91\n",
            "Epoch 35 / 100: Loss = 0.324 Acc = 0.92\n",
            "Epoch 36 / 100: Loss = 0.308 Acc = 0.93\n",
            "Epoch 37 / 100: Loss = 0.291 Acc = 0.94\n",
            "Epoch 38 / 100: Loss = 0.274 Acc = 0.94\n",
            "Epoch 39 / 100: Loss = 0.257 Acc = 0.94\n",
            "Epoch 40 / 100: Loss = 0.241 Acc = 0.95\n",
            "Epoch 41 / 100: Loss = 0.225 Acc = 0.96\n",
            "Epoch 42 / 100: Loss = 0.210 Acc = 0.96\n",
            "Epoch 43 / 100: Loss = 0.197 Acc = 0.96\n",
            "Epoch 44 / 100: Loss = 0.184 Acc = 0.96\n",
            "Epoch 45 / 100: Loss = 0.172 Acc = 0.96\n",
            "Epoch 46 / 100: Loss = 0.161 Acc = 0.96\n",
            "Epoch 47 / 100: Loss = 0.152 Acc = 0.96\n",
            "Epoch 48 / 100: Loss = 0.143 Acc = 0.98\n",
            "Epoch 49 / 100: Loss = 0.135 Acc = 0.98\n",
            "Epoch 50 / 100: Loss = 0.128 Acc = 0.98\n",
            "Epoch 51 / 100: Loss = 0.122 Acc = 0.98\n",
            "Epoch 52 / 100: Loss = 0.116 Acc = 0.98\n",
            "Epoch 53 / 100: Loss = 0.111 Acc = 0.98\n",
            "Epoch 54 / 100: Loss = 0.106 Acc = 0.98\n",
            "Epoch 55 / 100: Loss = 0.102 Acc = 0.98\n",
            "Epoch 56 / 100: Loss = 0.097 Acc = 0.98\n",
            "Epoch 57 / 100: Loss = 0.094 Acc = 0.99\n",
            "Epoch 58 / 100: Loss = 0.090 Acc = 0.99\n",
            "Epoch 59 / 100: Loss = 0.087 Acc = 0.99\n",
            "Epoch 60 / 100: Loss = 0.084 Acc = 0.99\n",
            "Epoch 61 / 100: Loss = 0.081 Acc = 0.99\n",
            "Epoch 62 / 100: Loss = 0.078 Acc = 0.99\n",
            "Epoch 63 / 100: Loss = 0.076 Acc = 0.99\n",
            "Epoch 64 / 100: Loss = 0.074 Acc = 0.99\n",
            "Epoch 65 / 100: Loss = 0.071 Acc = 0.99\n",
            "Epoch 66 / 100: Loss = 0.069 Acc = 0.99\n",
            "Epoch 67 / 100: Loss = 0.067 Acc = 0.99\n",
            "Epoch 68 / 100: Loss = 0.066 Acc = 0.99\n",
            "Epoch 69 / 100: Loss = 0.064 Acc = 0.99\n",
            "Epoch 70 / 100: Loss = 0.062 Acc = 0.99\n",
            "Epoch 71 / 100: Loss = 0.061 Acc = 0.99\n",
            "Epoch 72 / 100: Loss = 0.059 Acc = 0.99\n",
            "Epoch 73 / 100: Loss = 0.058 Acc = 0.99\n",
            "Epoch 74 / 100: Loss = 0.056 Acc = 0.99\n",
            "Epoch 75 / 100: Loss = 0.055 Acc = 0.99\n",
            "Epoch 76 / 100: Loss = 0.054 Acc = 1.00\n",
            "Epoch 77 / 100: Loss = 0.052 Acc = 1.00\n",
            "Epoch 78 / 100: Loss = 0.051 Acc = 1.00\n",
            "Epoch 79 / 100: Loss = 0.050 Acc = 1.00\n",
            "Epoch 80 / 100: Loss = 0.049 Acc = 1.00\n",
            "Epoch 81 / 100: Loss = 0.048 Acc = 1.00\n",
            "Epoch 82 / 100: Loss = 0.047 Acc = 1.00\n",
            "Epoch 83 / 100: Loss = 0.046 Acc = 1.00\n",
            "Epoch 84 / 100: Loss = 0.045 Acc = 1.00\n",
            "Epoch 85 / 100: Loss = 0.044 Acc = 1.00\n",
            "Epoch 86 / 100: Loss = 0.043 Acc = 1.00\n",
            "Epoch 87 / 100: Loss = 0.043 Acc = 1.00\n",
            "Epoch 88 / 100: Loss = 0.042 Acc = 1.00\n",
            "Epoch 89 / 100: Loss = 0.041 Acc = 1.00\n",
            "Epoch 90 / 100: Loss = 0.040 Acc = 1.00\n",
            "Epoch 91 / 100: Loss = 0.040 Acc = 1.00\n",
            "Epoch 92 / 100: Loss = 0.039 Acc = 1.00\n",
            "Epoch 93 / 100: Loss = 0.038 Acc = 1.00\n",
            "Epoch 94 / 100: Loss = 0.038 Acc = 1.00\n",
            "Epoch 95 / 100: Loss = 0.037 Acc = 1.00\n",
            "Epoch 96 / 100: Loss = 0.036 Acc = 1.00\n",
            "Epoch 97 / 100: Loss = 0.036 Acc = 1.00\n",
            "Epoch 98 / 100: Loss = 0.035 Acc = 1.00\n",
            "Epoch 99 / 100: Loss = 0.035 Acc = 1.00\n",
            "Epoch 100 / 100: Loss = 0.034 Acc = 1.00\n"
          ]
        }
      ],
      "source": [
        "history_classical = train(model_classical, n_epochs)"
      ]
    },
    {
      "cell_type": "code",
      "execution_count": 14,
      "metadata": {
        "id": "hH1pV5k6zxMG"
      },
      "outputs": [],
      "source": [
        "def print_result(model):\n",
        "    with torch.no_grad():\n",
        "        input_sentence = \"We heard the birds chirping loudly in the morning\".split() #training_data[8][0]\n",
        "        labels = [\"PRON\", \"V\", \"DET\", \"NN\", \"V\", \"ADV\", \"IN\", \"DET\", \"NN\"] # training_data[8][1]\n",
        "        inputs = prepare_sequence(input_sentence, word_to_ix)\n",
        "        tag_scores = model(inputs)\n",
        "\n",
        "        tag_ids = torch.argmax(tag_scores, dim=1).numpy()\n",
        "        tag_labels = [ix_to_tag[k] for k in tag_ids]\n",
        "        print(f\"Sentence:  {input_sentence}\")\n",
        "        print(f\"Labels:    {labels}\")\n",
        "        print(f\"Predicted: {tag_labels}\")"
      ]
    },
    {
      "cell_type": "code",
      "execution_count": 15,
      "metadata": {
        "colab": {
          "base_uri": "https://localhost:8080/"
        },
        "id": "9van-6JbzxMG",
        "outputId": "ea9b8d63-46fa-4662-d9ad-89e8c0cd74be"
      },
      "outputs": [
        {
          "output_type": "stream",
          "name": "stdout",
          "text": [
            "Sentence:  ['We', 'heard', 'the', 'birds', 'chirping', 'loudly', 'in', 'the', 'morning']\n",
            "Labels:    ['PRON', 'V', 'DET', 'NN', 'V', 'ADV', 'IN', 'DET', 'NN']\n",
            "Predicted: ['ADV', 'ADV', 'DET', 'NN', 'V', 'NN', 'IN', 'DET', 'NN']\n"
          ]
        }
      ],
      "source": [
        "print_result(model_classical)"
      ]
    },
    {
      "cell_type": "code",
      "execution_count": 16,
      "metadata": {
        "colab": {
          "base_uri": "https://localhost:8080/"
        },
        "id": "KiX9Ke21zxMG",
        "outputId": "038ddf60-a780-4948-bf89-59a15ac8ce54"
      },
      "outputs": [
        {
          "output_type": "stream",
          "name": "stdout",
          "text": [
            "Tagger will use Quantum LSTM\n",
            "weight_shapes = (n_qlayers, n_qubits) = (1, 4)\n"
          ]
        }
      ],
      "source": [
        "n_qubits = 4\n",
        "\n",
        "model_quantum = LSTMTagger(embedding_dim,\n",
        "                        hidden_dim,\n",
        "                        vocab_size=len(word_to_ix),\n",
        "                        tagset_size=len(tag_to_ix),\n",
        "                        n_qubits=n_qubits)"
      ]
    },
    {
      "cell_type": "code",
      "execution_count": 17,
      "metadata": {
        "colab": {
          "base_uri": "https://localhost:8080/"
        },
        "id": "7w0ZhFVfzxMG",
        "outputId": "c5a95ee8-d041-4f95-b028-fd816491cb4e"
      },
      "outputs": [
        {
          "output_type": "stream",
          "name": "stdout",
          "text": [
            "Epoch 1 / 100: Loss = 1.867 Acc = 0.21\n",
            "Epoch 2 / 100: Loss = 1.828 Acc = 0.23\n",
            "Epoch 3 / 100: Loss = 1.815 Acc = 0.24\n",
            "Epoch 4 / 100: Loss = 1.808 Acc = 0.24\n",
            "Epoch 5 / 100: Loss = 1.804 Acc = 0.24\n",
            "Epoch 6 / 100: Loss = 1.800 Acc = 0.26\n",
            "Epoch 7 / 100: Loss = 1.795 Acc = 0.31\n",
            "Epoch 8 / 100: Loss = 1.786 Acc = 0.39\n",
            "Epoch 9 / 100: Loss = 1.773 Acc = 0.42\n",
            "Epoch 10 / 100: Loss = 1.754 Acc = 0.40\n",
            "Epoch 11 / 100: Loss = 1.722 Acc = 0.39\n",
            "Epoch 12 / 100: Loss = 1.682 Acc = 0.39\n",
            "Epoch 13 / 100: Loss = 1.640 Acc = 0.40\n",
            "Epoch 14 / 100: Loss = 1.596 Acc = 0.40\n",
            "Epoch 15 / 100: Loss = 1.552 Acc = 0.40\n",
            "Epoch 16 / 100: Loss = 1.509 Acc = 0.42\n",
            "Epoch 17 / 100: Loss = 1.467 Acc = 0.43\n",
            "Epoch 18 / 100: Loss = 1.427 Acc = 0.43\n",
            "Epoch 19 / 100: Loss = 1.387 Acc = 0.47\n",
            "Epoch 20 / 100: Loss = 1.346 Acc = 0.49\n",
            "Epoch 21 / 100: Loss = 1.304 Acc = 0.52\n",
            "Epoch 22 / 100: Loss = 1.264 Acc = 0.52\n",
            "Epoch 23 / 100: Loss = 1.225 Acc = 0.53\n",
            "Epoch 24 / 100: Loss = 1.188 Acc = 0.53\n",
            "Epoch 25 / 100: Loss = 1.154 Acc = 0.54\n",
            "Epoch 26 / 100: Loss = 1.121 Acc = 0.55\n",
            "Epoch 27 / 100: Loss = 1.092 Acc = 0.55\n",
            "Epoch 28 / 100: Loss = 1.065 Acc = 0.56\n",
            "Epoch 29 / 100: Loss = 1.039 Acc = 0.56\n",
            "Epoch 30 / 100: Loss = 1.014 Acc = 0.59\n",
            "Epoch 31 / 100: Loss = 0.988 Acc = 0.61\n",
            "Epoch 32 / 100: Loss = 0.965 Acc = 0.62\n",
            "Epoch 33 / 100: Loss = 0.945 Acc = 0.65\n",
            "Epoch 34 / 100: Loss = 0.926 Acc = 0.67\n",
            "Epoch 35 / 100: Loss = 0.909 Acc = 0.69\n",
            "Epoch 36 / 100: Loss = 0.892 Acc = 0.72\n",
            "Epoch 37 / 100: Loss = 0.874 Acc = 0.73\n",
            "Epoch 38 / 100: Loss = 0.856 Acc = 0.75\n",
            "Epoch 39 / 100: Loss = 0.836 Acc = 0.75\n",
            "Epoch 40 / 100: Loss = 0.816 Acc = 0.76\n",
            "Epoch 41 / 100: Loss = 0.794 Acc = 0.78\n",
            "Epoch 42 / 100: Loss = 0.772 Acc = 0.79\n",
            "Epoch 43 / 100: Loss = 0.755 Acc = 0.80\n",
            "Epoch 44 / 100: Loss = 0.787 Acc = 0.79\n",
            "Epoch 45 / 100: Loss = 0.767 Acc = 0.78\n",
            "Epoch 46 / 100: Loss = 0.755 Acc = 0.79\n",
            "Epoch 47 / 100: Loss = 0.710 Acc = 0.81\n",
            "Epoch 48 / 100: Loss = 0.675 Acc = 0.83\n",
            "Epoch 49 / 100: Loss = 0.675 Acc = 0.82\n",
            "Epoch 50 / 100: Loss = 0.771 Acc = 0.78\n",
            "Epoch 51 / 100: Loss = 0.702 Acc = 0.80\n",
            "Epoch 52 / 100: Loss = 0.789 Acc = 0.79\n",
            "Epoch 53 / 100: Loss = 1.253 Acc = 0.55\n",
            "Epoch 54 / 100: Loss = 1.053 Acc = 0.61\n",
            "Epoch 55 / 100: Loss = 0.902 Acc = 0.72\n",
            "Epoch 56 / 100: Loss = 0.814 Acc = 0.75\n",
            "Epoch 57 / 100: Loss = 0.740 Acc = 0.80\n",
            "Epoch 58 / 100: Loss = 0.775 Acc = 0.77\n",
            "Epoch 59 / 100: Loss = 0.867 Acc = 0.74\n",
            "Epoch 60 / 100: Loss = 0.841 Acc = 0.77\n",
            "Epoch 61 / 100: Loss = 1.193 Acc = 0.66\n",
            "Epoch 62 / 100: Loss = 1.534 Acc = 0.52\n",
            "Epoch 63 / 100: Loss = 1.181 Acc = 0.63\n",
            "Epoch 64 / 100: Loss = 0.867 Acc = 0.74\n",
            "Epoch 65 / 100: Loss = 1.247 Acc = 0.63\n",
            "Epoch 66 / 100: Loss = 1.208 Acc = 0.61\n",
            "Epoch 67 / 100: Loss = 1.352 Acc = 0.55\n",
            "Epoch 68 / 100: Loss = 1.050 Acc = 0.66\n",
            "Epoch 69 / 100: Loss = 0.878 Acc = 0.74\n",
            "Epoch 70 / 100: Loss = 0.947 Acc = 0.72\n",
            "Epoch 71 / 100: Loss = 0.829 Acc = 0.79\n",
            "Epoch 72 / 100: Loss = 0.819 Acc = 0.77\n",
            "Epoch 73 / 100: Loss = 0.792 Acc = 0.81\n",
            "Epoch 74 / 100: Loss = 0.662 Acc = 0.85\n",
            "Epoch 75 / 100: Loss = 0.653 Acc = 0.83\n",
            "Epoch 76 / 100: Loss = 0.543 Acc = 0.91\n",
            "Epoch 77 / 100: Loss = 0.492 Acc = 0.92\n",
            "Epoch 78 / 100: Loss = 0.454 Acc = 0.94\n",
            "Epoch 79 / 100: Loss = 0.436 Acc = 0.93\n",
            "Epoch 80 / 100: Loss = 0.412 Acc = 0.95\n",
            "Epoch 81 / 100: Loss = 0.393 Acc = 0.95\n",
            "Epoch 82 / 100: Loss = 0.437 Acc = 0.92\n",
            "Epoch 83 / 100: Loss = 0.423 Acc = 0.92\n",
            "Epoch 84 / 100: Loss = 0.546 Acc = 0.85\n",
            "Epoch 85 / 100: Loss = 1.958 Acc = 0.43\n",
            "Epoch 86 / 100: Loss = 2.196 Acc = 0.31\n",
            "Epoch 87 / 100: Loss = 1.886 Acc = 0.40\n",
            "Epoch 88 / 100: Loss = 1.353 Acc = 0.52\n",
            "Epoch 89 / 100: Loss = 1.142 Acc = 0.61\n",
            "Epoch 90 / 100: Loss = 1.323 Acc = 0.59\n",
            "Epoch 91 / 100: Loss = 1.320 Acc = 0.58\n",
            "Epoch 92 / 100: Loss = 1.233 Acc = 0.61\n",
            "Epoch 93 / 100: Loss = 1.455 Acc = 0.54\n",
            "Epoch 94 / 100: Loss = 1.113 Acc = 0.65\n",
            "Epoch 95 / 100: Loss = 1.076 Acc = 0.70\n",
            "Epoch 96 / 100: Loss = 1.060 Acc = 0.70\n",
            "Epoch 97 / 100: Loss = 1.185 Acc = 0.61\n",
            "Epoch 98 / 100: Loss = 0.990 Acc = 0.74\n",
            "Epoch 99 / 100: Loss = 0.686 Acc = 0.84\n",
            "Epoch 100 / 100: Loss = 1.167 Acc = 0.61\n"
          ]
        }
      ],
      "source": [
        "history_quantum = train(model_quantum, n_epochs)"
      ]
    },
    {
      "cell_type": "code",
      "execution_count": 18,
      "metadata": {
        "colab": {
          "base_uri": "https://localhost:8080/"
        },
        "id": "J7Grf8PHzxMH",
        "outputId": "0688d66d-d767-4668-e5f0-31db07063c68"
      },
      "outputs": [
        {
          "output_type": "stream",
          "name": "stdout",
          "text": [
            "Sentence:  ['We', 'heard', 'the', 'birds', 'chirping', 'loudly', 'in', 'the', 'morning']\n",
            "Labels:    ['PRON', 'V', 'DET', 'NN', 'V', 'ADV', 'IN', 'DET', 'NN']\n",
            "Predicted: ['ADV', 'DET', 'DET', 'NN', 'NN', 'ADV', 'IN', 'DET', 'NN']\n"
          ]
        }
      ],
      "source": [
        "print_result(model_quantum)"
      ]
    },
    {
      "cell_type": "markdown",
      "metadata": {
        "id": "1NUjjUAJzxMH"
      },
      "source": [
        "### Plot the training history"
      ]
    },
    {
      "cell_type": "code",
      "execution_count": 19,
      "metadata": {
        "id": "C7cEA5-5zxMH"
      },
      "outputs": [],
      "source": [
        "from matplotlib import pyplot as plt\n",
        "\n",
        "def plot_history(history_classical, history_quantum):\n",
        "    loss_c = history_classical['loss']\n",
        "    acc_c = history_classical['acc']\n",
        "    loss_q = history_quantum['loss']\n",
        "    acc_q = history_quantum['acc']\n",
        "    n_epochs = max([len(loss_c), len(loss_q)])\n",
        "    x_epochs = [i for i in range(n_epochs)]\n",
        "\n",
        "    fig, ax1 = plt.subplots()\n",
        "\n",
        "    ax1.set_xlabel(\"Epoch\")\n",
        "    ax1.set_ylabel(\"Loss\")\n",
        "    ax1.plot(loss_c, label=\"Classical LSTM loss\", color='orange', linestyle='dashed')\n",
        "    ax1.plot(loss_q, label=\"Quantum LSTM loss\", color='red', linestyle='solid')\n",
        "\n",
        "    ax2 = ax1.twinx()\n",
        "    ax2.set_ylabel(\"Accuracy\")\n",
        "    ax2.plot(acc_c, label=\"Classical LSTM accuracy\", color='steelblue', linestyle='dashed')\n",
        "    ax2.plot(acc_q, label=\"Quantum LSTM accuracy\", color='blue', linestyle='solid')\n",
        "\n",
        "    plt.title(\"Part-of-Speech Tagger Training\")\n",
        "    plt.ylim(0., 1.1)\n",
        "    #plt.legend(loc=\"upper right\")\n",
        "    fig.legend(loc=\"upper left\", bbox_to_anchor=(1,0.8), bbox_transform=ax1.transAxes)\n",
        "\n",
        "    plt.savefig(\"pos_training.pdf\")\n",
        "    plt.savefig(\"pos_training.png\")\n",
        "    plt.show()"
      ]
    },
    {
      "cell_type": "code",
      "execution_count": 20,
      "metadata": {
        "colab": {
          "base_uri": "https://localhost:8080/",
          "height": 472
        },
        "id": "XC703gjrzxMH",
        "outputId": "12426a66-864d-4cec-bca3-d16d9cc68677"
      },
      "outputs": [
        {
          "output_type": "display_data",
          "data": {
            "text/plain": [
              "<Figure size 640x480 with 2 Axes>"
            ],
            "image/png": "[encoded data removed]"
          },
          "metadata": {}
        }
      ],
      "source": [
        "plot_history(history_classical, history_quantum)"
      ]
    },
    {
      "cell_type": "code",
      "source": [],
      "metadata": {
        "id": "KGmVMAiI7a7O"
      },
      "execution_count": null,
      "outputs": []
    }
  ],
  "metadata": {
    "kernelspec": {
      "display_name": "Python 3 (ipykernel)",
      "language": "python",
      "name": "python3"
    },
    "language_info": {
      "codemirror_mode": {
        "name": "ipython",
        "version": 3
      },
      "file_extension": ".py",
      "mimetype": "text/x-python",
      "name": "python",
      "nbconvert_exporter": "python",
      "pygments_lexer": "ipython3",
      "version": "3.8.9"
    },
    "colab": {
      "provenance": []
    }
  },
  "nbformat": 4,
  "nbformat_minor": 0
}
