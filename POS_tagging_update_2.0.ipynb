{
  "cells": [
    {
      "cell_type": "code",
      "execution_count": 1,
      "metadata": {
        "colab": {
          "base_uri": "https://localhost:8080/"
        },
        "id": "zXGXyvm2Npx0",
        "outputId": "43613c7b-b753-4a3c-8d3b-04f91071d8c5"
      },
      "outputs": [
        {
          "name": "stdout",
          "output_type": "stream",
          "text": [
            "Collecting pennylane\n",
            "  Downloading PennyLane-0.39.0-py3-none-any.whl.metadata (9.2 kB)\n",
            "Requirement already satisfied: numpy<2.1 in c:\\users\\hs tech\\appdata\\local\\programs\\python\\python312\\lib\\site-packages (from pennylane) (1.26.4)\n",
            "Requirement already satisfied: scipy in c:\\users\\hs tech\\appdata\\local\\programs\\python\\python312\\lib\\site-packages (from pennylane) (1.13.0)\n",
            "Collecting networkx (from pennylane)\n",
            "  Downloading networkx-3.4.2-py3-none-any.whl.metadata (6.3 kB)\n",
            "Requirement already satisfied: rustworkx>=0.14.0 in c:\\users\\hs tech\\appdata\\local\\programs\\python\\python312\\lib\\site-packages (from pennylane) (0.15.1)\n",
            "Collecting autograd (from pennylane)\n",
            "  Downloading autograd-1.7.0-py3-none-any.whl.metadata (7.5 kB)\n",
            "Collecting toml (from pennylane)\n",
            "  Downloading toml-0.10.2-py2.py3-none-any.whl.metadata (7.1 kB)\n",
            "Collecting appdirs (from pennylane)\n",
            "  Downloading appdirs-1.4.4-py2.py3-none-any.whl.metadata (9.0 kB)\n",
            "Collecting autoray>=0.6.11 (from pennylane)\n",
            "  Downloading autoray-0.7.0-py3-none-any.whl.metadata (5.8 kB)\n",
            "Collecting cachetools (from pennylane)\n",
            "  Downloading cachetools-5.5.0-py3-none-any.whl.metadata (5.3 kB)\n",
            "Collecting pennylane-lightning>=0.39 (from pennylane)\n",
            "  Downloading PennyLane_Lightning-0.39.0-cp312-cp312-win_amd64.whl.metadata (26 kB)\n",
            "Requirement already satisfied: requests in c:\\users\\hs tech\\appdata\\local\\programs\\python\\python312\\lib\\site-packages (from pennylane) (2.31.0)\n",
            "Requirement already satisfied: typing-extensions in c:\\users\\hs tech\\appdata\\local\\programs\\python\\python312\\lib\\site-packages (from pennylane) (4.11.0)\n",
            "Requirement already satisfied: packaging in c:\\users\\hs tech\\appdata\\local\\programs\\python\\python312\\lib\\site-packages (from pennylane) (24.0)\n",
            "Requirement already satisfied: charset-normalizer<4,>=2 in c:\\users\\hs tech\\appdata\\local\\programs\\python\\python312\\lib\\site-packages (from requests->pennylane) (3.3.2)\n",
            "Requirement already satisfied: idna<4,>=2.5 in c:\\users\\hs tech\\appdata\\local\\programs\\python\\python312\\lib\\site-packages (from requests->pennylane) (3.7)\n",
            "Requirement already satisfied: urllib3<3,>=1.21.1 in c:\\users\\hs tech\\appdata\\local\\programs\\python\\python312\\lib\\site-packages (from requests->pennylane) (2.2.1)\n",
            "Requirement already satisfied: certifi>=2017.4.17 in c:\\users\\hs tech\\appdata\\local\\programs\\python\\python312\\lib\\site-packages (from requests->pennylane) (2024.2.2)\n",
            "Downloading PennyLane-0.39.0-py3-none-any.whl (1.9 MB)\n",
            "   ---------------------------------------- 0.0/1.9 MB ? eta -:--:--\n",
            "   ---------------------------------------- 0.0/1.9 MB ? eta -:--:--\n",
            "   ----------- ---------------------------- 0.5/1.9 MB 2.4 MB/s eta 0:00:01\n",
            "   ---------------------------------------- 1.9/1.9 MB 4.7 MB/s eta 0:00:00\n",
            "Downloading autoray-0.7.0-py3-none-any.whl (930 kB)\n",
            "   ---------------------------------------- 0.0/930.0 kB ? eta -:--:--\n",
            "   --------------------------------------- 930.0/930.0 kB 10.6 MB/s eta 0:00:00\n",
            "Downloading PennyLane_Lightning-0.39.0-cp312-cp312-win_amd64.whl (5.5 MB)\n",
            "   ---------------------------------------- 0.0/5.5 MB ? eta -:--:--\n",
            "   --------------- ------------------------ 2.1/5.5 MB 11.7 MB/s eta 0:00:01\n",
            "   ------------------ --------------------- 2.6/5.5 MB 10.0 MB/s eta 0:00:01\n",
            "   ------------------ --------------------- 2.6/5.5 MB 10.0 MB/s eta 0:00:01\n",
            "   ------------------------------------ --- 5.0/5.5 MB 6.0 MB/s eta 0:00:01\n",
            "   ---------------------------------------- 5.5/5.5 MB 5.7 MB/s eta 0:00:00\n",
            "Downloading appdirs-1.4.4-py2.py3-none-any.whl (9.6 kB)\n",
            "Downloading autograd-1.7.0-py3-none-any.whl (52 kB)\n",
            "Downloading cachetools-5.5.0-py3-none-any.whl (9.5 kB)\n",
            "Downloading networkx-3.4.2-py3-none-any.whl (1.7 MB)\n",
            "   ---------------------------------------- 0.0/1.7 MB ? eta -:--:--\n",
            "   ---------------------------------------- 1.7/1.7 MB 10.4 MB/s eta 0:00:00\n",
            "Downloading toml-0.10.2-py2.py3-none-any.whl (16 kB)\n",
            "Installing collected packages: appdirs, toml, networkx, cachetools, autoray, autograd, pennylane-lightning, pennylane\n",
            "Successfully installed appdirs-1.4.4 autograd-1.7.0 autoray-0.7.0 cachetools-5.5.0 networkx-3.4.2 pennylane-0.39.0 pennylane-lightning-0.39.0 toml-0.10.2\n",
            "Requirement already satisfied: qiskit in c:\\users\\hs tech\\appdata\\local\\programs\\python\\python312\\lib\\site-packages (1.2.4)\n",
            "Requirement already satisfied: rustworkx>=0.15.0 in c:\\users\\hs tech\\appdata\\local\\programs\\python\\python312\\lib\\site-packages (from qiskit) (0.15.1)\n",
            "Requirement already satisfied: numpy<3,>=1.17 in c:\\users\\hs tech\\appdata\\local\\programs\\python\\python312\\lib\\site-packages (from qiskit) (1.26.4)\n",
            "Requirement already satisfied: scipy>=1.5 in c:\\users\\hs tech\\appdata\\local\\programs\\python\\python312\\lib\\site-packages (from qiskit) (1.13.0)\n",
            "Requirement already satisfied: sympy>=1.3 in c:\\users\\hs tech\\appdata\\local\\programs\\python\\python312\\lib\\site-packages (from qiskit) (1.13.3)\n",
            "Requirement already satisfied: dill>=0.3 in c:\\users\\hs tech\\appdata\\local\\programs\\python\\python312\\lib\\site-packages (from qiskit) (0.3.9)\n",
            "Requirement already satisfied: python-dateutil>=2.8.0 in c:\\users\\hs tech\\appdata\\local\\programs\\python\\python312\\lib\\site-packages (from qiskit) (2.9.0.post0)\n",
            "Requirement already satisfied: stevedore>=3.0.0 in c:\\users\\hs tech\\appdata\\local\\programs\\python\\python312\\lib\\site-packages (from qiskit) (5.3.0)\n",
            "Requirement already satisfied: typing-extensions in c:\\users\\hs tech\\appdata\\local\\programs\\python\\python312\\lib\\site-packages (from qiskit) (4.11.0)\n",
            "Requirement already satisfied: symengine<0.14,>=0.11 in c:\\users\\hs tech\\appdata\\local\\programs\\python\\python312\\lib\\site-packages (from qiskit) (0.13.0)\n",
            "Requirement already satisfied: six>=1.5 in c:\\users\\hs tech\\appdata\\local\\programs\\python\\python312\\lib\\site-packages (from python-dateutil>=2.8.0->qiskit) (1.16.0)\n",
            "Requirement already satisfied: pbr>=2.0.0 in c:\\users\\hs tech\\appdata\\local\\programs\\python\\python312\\lib\\site-packages (from stevedore>=3.0.0->qiskit) (6.1.0)\n",
            "Requirement already satisfied: mpmath<1.4,>=1.1.0 in c:\\users\\hs tech\\appdata\\local\\programs\\python\\python312\\lib\\site-packages (from sympy>=1.3->qiskit) (1.3.0)\n"
          ]
        }
      ],
      "source": [
        "%pip install pennylane\n",
        "%pip install qiskit"
      ]
    },
    {
      "cell_type": "code",
      "execution_count": 5,
      "metadata": {},
      "outputs": [
        {
          "name": "stdout",
          "output_type": "stream",
          "text": [
            "^C\n"
          ]
        },
        {
          "name": "stdout",
          "output_type": "stream",
          "text": [
            "Requirement already satisfied: torch in c:\\users\\hs tech\\appdata\\local\\programs\\python\\python312\\lib\\site-packages (2.5.1)\n",
            "Requirement already satisfied: filelock in c:\\users\\hs tech\\appdata\\local\\programs\\python\\python312\\lib\\site-packages (from torch) (3.16.1)\n",
            "Requirement already satisfied: typing-extensions>=4.8.0 in c:\\users\\hs tech\\appdata\\local\\programs\\python\\python312\\lib\\site-packages (from torch) (4.11.0)\n",
            "Requirement already satisfied: networkx in c:\\users\\hs tech\\appdata\\local\\programs\\python\\python312\\lib\\site-packages (from torch) (3.4.2)\n",
            "Requirement already satisfied: jinja2 in c:\\users\\hs tech\\appdata\\local\\programs\\python\\python312\\lib\\site-packages (from torch) (3.1.4)\n",
            "Requirement already satisfied: fsspec in c:\\users\\hs tech\\appdata\\local\\programs\\python\\python312\\lib\\site-packages (from torch) (2024.10.0)\n",
            "Requirement already satisfied: setuptools in c:\\users\\hs tech\\appdata\\local\\programs\\python\\python312\\lib\\site-packages (from torch) (75.1.0)\n",
            "Requirement already satisfied: sympy==1.13.1 in c:\\users\\hs tech\\appdata\\local\\programs\\python\\python312\\lib\\site-packages (from torch) (1.13.1)\n",
            "Requirement already satisfied: mpmath<1.4,>=1.1.0 in c:\\users\\hs tech\\appdata\\local\\programs\\python\\python312\\lib\\site-packages (from sympy==1.13.1->torch) (1.3.0)\n",
            "Requirement already satisfied: MarkupSafe>=2.0 in c:\\users\\hs tech\\appdata\\local\\programs\\python\\python312\\lib\\site-packages (from jinja2->torch) (2.1.5)\n"
          ]
        }
      ],
      "source": [
        "%pip install torch"
      ]
    },
    {
      "cell_type": "code",
      "execution_count": 6,
      "metadata": {
        "id": "5N6QodPOzxMB"
      },
      "outputs": [],
      "source": [
        "import numpy as np\n",
        "import torch\n",
        "import torch.nn as nn\n",
        "import torch.nn.functional as F\n",
        "import torch.optim as optim\n",
        "# import qiskit\n",
        "# from qlstm_pennylane import QLSTM"
      ]
    },
    {
      "cell_type": "markdown",
      "metadata": {
        "id": "FeLptWA6zxMC"
      },
      "source": [
        "Here we define the possible tags: determinant, noun, verb."
      ]
    },
    {
      "cell_type": "code",
      "execution_count": 7,
      "metadata": {
        "id": "98L5FysgzxMC"
      },
      "outputs": [],
      "source": [
        "tag_to_ix = {\"DET\": 0, \"NN\": 1, \"V\": 2, \"PRON\":3,  \"ADV\":4, \"ADJ\":5, \"IN\":6}  # Assign each tag with a unique index\n",
        "ix_to_tag = {i:k for k,i in tag_to_ix.items()}"
      ]
    },
    {
      "cell_type": "markdown",
      "metadata": {
        "id": "qFuyoEXEzxMC"
      },
      "source": [
        "The function below tokenizes the sentence and matches the label to each word."
      ]
    },
    {
      "cell_type": "code",
      "execution_count": 8,
      "metadata": {
        "id": "HAIkS4B9zxMD"
      },
      "outputs": [],
      "source": [
        "def prepare_sequence(seq, to_ix):\n",
        "    idxs = [to_ix[w] for w in seq]\n",
        "    return torch.tensor(idxs, dtype=torch.long)"
      ]
    },
    {
      "cell_type": "markdown",
      "metadata": {
        "id": "WJicxsANzxMD"
      },
      "source": [
        "Now we can prepare the input dataset."
      ]
    },
    {
      "cell_type": "code",
      "execution_count": 9,
      "metadata": {
        "colab": {
          "base_uri": "https://localhost:8080/"
        },
        "id": "sqLpTrN7zxMD",
        "outputId": "f01b2420-6645-4b63-f081-5b18e5531042"
      },
      "outputs": [
        {
          "name": "stdout",
          "output_type": "stream",
          "text": [
            "Vocabulary: {'The': 0, 'dog': 1, 'ate': 2, 'the': 3, 'apple': 4, 'Everybody': 5, 'read': 6, 'that': 7, 'book': 8, 'She': 9, 'sings': 10, 'beautifully': 11, 'big': 12, 'red': 13, 'fell': 14, 'from': 15, 'tree': 16, 'They': 17, 'ran': 18, 'quickly': 19, 'to': 20, 'park': 21, 'He': 22, 'slowly': 23, 'dogs': 24, 'barked': 25, 'loudly': 26, 'tall': 27, 'building': 28, 'stood': 29, 'alone': 30, 'in': 31, 'city': 32, 'a': 33, 'delicious': 34, 'cake': 35, 'for': 36, 'dessert': 37, 'children': 38, 'played': 39, 'happily': 40, 'cats': 41, 'slept': 42, 'on': 43, 'mat.': 44, 'dances': 45, 'gracefully': 46, 'stage.': 47, 'flowers': 48, 'bloomed': 49, 'garden.': 50, 'walked': 51, 'down': 52, 'street.': 53, 'at': 54, 'park.': 55, 'catch': 56, 'bus.': 57, 'yellow': 58, 'sun': 59, 'set': 60, 'over': 61, 'ocean.': 62, 'wore': 63, 'pretty': 64, 'dress': 65, 'party.': 66, 'old': 67, 'men': 68, 'sat': 69, 'bench.': 70, 'cat': 71, 'jumped': 72, 'fence': 73, 'A': 74, 'bird': 75, 'sang': 76, 'morning': 77, 'bus': 78, 'students': 79, 'studied': 80, 'hard': 81, 'exam': 82, 'his': 83, 'dinner': 84, 'quietly': 85, 'shone': 86, 'brightly': 87, 'beach': 88, 'vividly': 89, 'garden': 90, 'peacefully': 91, 'throughout': 92, 'night': 93, 'laughed': 94, 'joyfully': 95, 'joke': 96, 'spoke': 97, 'softly': 98, 'mother': 99, 'baby': 100, 'cried': 101, 'room': 102, 'danced': 103, 'stage': 104, 'horses': 105, 'galloped': 106, 'swiftly': 107, 'across': 108, 'field': 109, 'carefully': 110, 'instructions': 111, 'stranger': 112, 'swam': 113, 'ocean': 114, 'paintings': 115, 'displayed': 116, 'gallery': 117, 'wrote': 118, 'passionately': 119, 'about': 120, 'experiences': 121, 'behind': 122, 'mountains': 123, 'confidently': 124, 'front': 125, 'of': 126, 'audience': 127, 'smiled': 128, 'warmly': 129, 'friends': 130, 'car': 131, 'drove': 132, 'along': 133, 'highway': 134, 'answered': 135, 'question': 136, 'listened': 137, 'attentively': 138, 'lecture': 139, 'climbed': 140, 'bravely': 141, 'mountain': 142, 'peak': 143, 'rain': 144, 'heavily': 145, 'roof': 146, 'frantically': 147, 'colorfully': 148, 'hungrily': 149, 'after': 150, 'long': 151, 'day': 152, 'purred': 153, 'contentedly': 154, 'windowsill': 155, 'enthusiastically': 156, 'playground': 157, 'We': 158, 'heard': 159, 'birds': 160, 'chirping': 161}\n",
            "Entities: {0: 'DET', 1: 'NN', 2: 'V', 3: 'PRON', 4: 'ADV', 5: 'ADJ', 6: 'IN'}\n"
          ]
        }
      ],
      "source": [
        "vocab = [\n",
        "    # Tags are: DET - determiner; NN - noun; V - verb\n",
        "    # For example, the word \"The\" is a determiner\n",
        "    (\"The dog ate the apple\".split(), [\"DET\", \"NN\", \"V\", \"DET\", \"NN\"]),\n",
        "    (\"Everybody read that book\".split(), [\"NN\", \"V\", \"DET\", \"NN\"]),\n",
        "    (\"She sings beautifully\".split(), [\"PRON\", \"V\", \"ADV\"]),\n",
        "    (\"The big red apple fell from the tree\".split(), [\"DET\", \"ADJ\", \"ADJ\", \"NN\", \"V\", \"IN\", \"DET\", \"NN\"]),\n",
        "    (\"They ran quickly to the park\".split(), [\"PRON\", \"V\", \"ADV\", \"IN\", \"DET\", \"NN\"]),\n",
        "    (\"He read the book slowly\".split(), [\"PRON\", \"V\", \"DET\", \"NN\", \"ADV\"]),\n",
        "    (\"The dogs barked loudly\".split(), [\"DET\", \"NN\", \"V\", \"ADV\"]),\n",
        "    (\"The tall building stood alone in the city\".split(), [\"DET\", \"ADJ\", \"NN\", \"V\", \"ADV\", \"IN\", \"DET\", \"NN\"]),\n",
        "    (\"She ate a delicious cake for dessert\".split(), [\"PRON\", \"V\", \"DET\", \"ADJ\", \"NN\", \"IN\", \"NN\"]),\n",
        "    (\"The children played happily in the park\".split(), [\"DET\", \"NN\", \"V\", \"ADV\", \"IN\", \"DET\", \"NN\"]),\n",
        "    ([\"The\", \"cats\", \"slept\", \"on\", \"the\", \"mat.\"], [\"DET\", \"NN\", \"V\", \"IN\", \"DET\", \"NN\"]),\n",
        "    ([\"She\", \"dances\", \"gracefully\", \"on\", \"stage.\"], [\"PRON\", \"V\", \"ADV\", \"IN\", \"NN\"]),\n",
        "    ([\"The\", \"flowers\", \"bloomed\", \"beautifully\", \"in\", \"the\", \"garden.\"], [\"DET\", \"NN\", \"V\", \"ADV\", \"IN\", \"DET\", \"NN\"]),\n",
        "    ([\"He\", \"walked\", \"slowly\", \"down\", \"the\", \"street.\"], [\"PRON\", \"V\", \"ADV\", \"IN\", \"DET\", \"NN\"]),\n",
        "    ([\"The\", \"children\", \"played\", \"happily\", \"at\", \"the\", \"park.\"], [\"DET\", \"NN\", \"V\", \"ADV\", \"IN\", \"DET\", \"NN\"]),\n",
        "    ([\"They\", \"ran\", \"quickly\", \"to\", \"catch\", \"the\", \"bus.\"], [\"PRON\", \"V\", \"ADV\", \"IN\", \"V\", \"DET\", \"NN\"]),\n",
        "    ([\"The\", \"big\", \"yellow\", \"sun\", \"set\", \"over\", \"the\", \"ocean.\"], [\"DET\", \"ADJ\", \"ADJ\", \"NN\", \"V\", \"IN\", \"DET\", \"NN\"]),\n",
        "    ([\"She\", \"wore\", \"a\", \"pretty\", \"dress\", \"to\", \"the\", \"party.\"], [\"PRON\", \"V\", \"DET\", \"ADJ\", \"NN\", \"IN\", \"DET\", \"NN\"]),\n",
        "    ([\"The\", \"old\", \"men\", \"sat\", \"alone\", \"on\", \"the\", \"bench.\"], [\"DET\", \"ADJ\", \"NN\", \"V\", \"ADV\", \"IN\", \"DET\", \"NN\"]),\n",
        "    ([\"The\", \"cat\", \"jumped\", \"over\", \"the\", \"fence\"], [\"DET\", \"NN\", \"V\", \"IN\", \"DET\", \"NN\"]),\n",
        "    ([\"A\", \"bird\", \"sang\", \"beautifully\", \"in\", \"the\", \"morning\"], [\"DET\", \"NN\", \"V\", \"ADV\", \"IN\", \"DET\", \"NN\"]),\n",
        "    ([\"She\", \"ran\", \"quickly\", \"to\", \"catch\", \"the\", \"bus\"], [\"PRON\", \"V\", \"ADV\", \"IN\", \"V\", \"DET\", \"NN\"]),\n",
        "    ([\"The\", \"students\", \"studied\", \"hard\", \"for\", \"the\", \"exam\"], [\"DET\", \"NN\", \"V\", \"ADJ\", \"IN\", \"DET\", \"NN\"]),\n",
        "    ([\"He\", \"ate\", \"his\", \"dinner\", \"quietly\"], [\"PRON\", \"V\", \"DET\", \"NN\", \"ADV\"]),\n",
        "    ([\"The\", \"sun\", \"shone\", \"brightly\", \"on\", \"the\", \"beach\"], [\"DET\", \"NN\", \"V\", \"ADV\", \"IN\", \"DET\", \"NN\"]),\n",
        "    ([\"They\", \"played\", \"happily\", \"in\", \"the\", \"park\"], [\"PRON\", \"V\", \"ADV\", \"IN\", \"DET\", \"NN\"]),\n",
        "    ([\"The\", \"flowers\", \"bloomed\", \"vividly\", \"in\", \"the\", \"garden\"], [\"DET\", \"NN\", \"V\", \"ADV\", \"IN\", \"DET\", \"NN\"]),\n",
        "    ([\"She\", \"slept\", \"peacefully\", \"throughout\", \"the\", \"night\"], [\"PRON\", \"V\", \"ADV\", \"IN\", \"DET\", \"NN\"]),\n",
        "    ([\"The\", \"children\", \"laughed\", \"joyfully\", \"at\", \"the\", \"joke\"], [\"DET\", \"NN\", \"V\", \"ADV\", \"IN\", \"DET\", \"NN\"]),\n",
        "    ([\"He\", \"spoke\", \"softly\", \"to\", \"his\", \"mother\"], [\"PRON\", \"V\", \"ADV\", \"IN\", \"DET\", \"NN\"]),\n",
        "    ([\"The\", \"baby\", \"cried\", \"loudly\", \"in\", \"the\", \"room\"], [\"DET\", \"NN\", \"V\", \"ADV\", \"IN\", \"DET\", \"NN\"]),\n",
        "    ([\"They\", \"danced\", \"gracefully\", \"on\", \"the\", \"stage\"], [\"PRON\", \"V\", \"ADV\", \"IN\", \"DET\", \"NN\"]),\n",
        "    ([\"The\", \"horses\", \"galloped\", \"swiftly\", \"across\", \"the\", \"field\"], [\"DET\", \"NN\", \"V\", \"ADV\", \"IN\", \"DET\", \"NN\"]),\n",
        "    ([\"She\", \"read\", \"carefully\", \"the\", \"instructions\"], [\"PRON\", \"V\", \"ADV\", \"DET\", \"NN\"]),\n",
        "    ([\"The\", \"dog\", \"barked\", \"loudly\", \"at\", \"the\", \"stranger\"], [\"DET\", \"NN\", \"V\", \"ADV\", \"IN\", \"DET\", \"NN\"]),\n",
        "    ([\"They\", \"swam\", \"gracefully\", \"in\", \"the\", \"ocean\"], [\"PRON\", \"V\", \"ADV\", \"IN\", \"DET\", \"NN\"]),\n",
        "    ([\"The\", \"paintings\", \"displayed\", \"beautifully\", \"in\", \"the\", \"gallery\"], [\"DET\", \"NN\", \"V\", \"ADV\", \"IN\", \"DET\", \"NN\"]),\n",
        "    ([\"He\", \"wrote\", \"passionately\", \"about\", \"his\", \"experiences\"], [\"PRON\", \"V\", \"ADV\", \"IN\", \"DET\", \"NN\"]),\n",
        "    ([\"The\", \"sun\", \"set\", \"slowly\", \"behind\", \"the\", \"mountains\"], [\"DET\", \"NN\", \"V\", \"ADV\", \"IN\", \"DET\", \"NN\"]),\n",
        "    ([\"She\", \"spoke\", \"confidently\", \"in\", \"front\", \"of\", \"the\", \"audience\"], [\"PRON\", \"V\", \"ADV\", \"IN\", \"NN\", \"IN\", \"DET\", \"NN\"]),\n",
        "    ([\"The\", \"children\", \"played\", \"happily\", \"in\", \"the\", \"park\"], [\"DET\", \"NN\", \"V\", \"ADV\", \"IN\", \"DET\", \"NN\"]),\n",
        "    ([\"He\", \"smiled\", \"warmly\", \"at\", \"his\", \"friends\"], [\"PRON\", \"V\", \"ADV\", \"IN\", \"DET\", \"NN\"]),\n",
        "    ([\"The\", \"car\", \"drove\", \"swiftly\", \"along\", \"the\", \"highway\"], [\"DET\", \"NN\", \"V\", \"ADV\", \"IN\", \"DET\", \"NN\"]),\n",
        "    ([\"She\", \"answered\", \"quickly\", \"to\", \"his\", \"question\"], [\"PRON\", \"V\", \"ADV\", \"IN\", \"DET\", \"NN\"]),\n",
        "    ([\"The\", \"students\", \"listened\", \"attentively\", \"to\", \"the\", \"lecture\"], [\"DET\", \"NN\", \"V\", \"ADV\", \"IN\", \"DET\", \"NN\"]),\n",
        "    ([\"They\", \"climbed\", \"bravely\", \"to\", \"the\", \"mountain\", \"peak\"], [\"PRON\", \"V\", \"ADV\", \"IN\", \"DET\", \"NN\", \"NN\"]),\n",
        "    ([\"The\", \"rain\", \"fell\", \"heavily\", \"on\", \"the\", \"roof\"], [\"DET\", \"NN\", \"V\", \"ADV\", \"IN\", \"DET\", \"NN\"]),\n",
        "    ([\"She\", \"ran\", \"frantically\", \"to\", \"catch\", \"the\", \"bus\"], [\"PRON\", \"V\", \"ADV\", \"IN\", \"V\", \"DET\", \"NN\"]),\n",
        "    ([\"The\", \"flowers\", \"bloomed\", \"colorfully\", \"in\", \"the\", \"garden\"], [\"DET\", \"NN\", \"V\", \"ADV\", \"IN\", \"DET\", \"NN\"]),\n",
        "    ([\"He\", \"ate\", \"hungrily\", \"after\", \"a\", \"long\", \"day\"], [\"PRON\", \"V\", \"ADV\", \"IN\", \"DET\", \"ADJ\", \"NN\"]),\n",
        "    ([\"The\", \"cat\", \"purred\", \"contentedly\", \"on\", \"the\", \"windowsill\"], [\"DET\", \"NN\", \"V\", \"ADV\", \"IN\", \"DET\", \"NN\"]),\n",
        "    ([\"They\", \"played\", \"enthusiastically\", \"in\", \"the\", \"playground\"], [\"PRON\", \"V\", \"ADV\", \"IN\", \"DET\", \"NN\"]),\n",
        "    (\"We heard the birds chirping loudly in the morning\".split(), [\"PRON\", \"V\", \"DET\", \"NN\", \"V\", \"ADV\", \"IN\", \"DET\", \"NN\"]),\n",
        "]\n",
        "word_to_ix = {}\n",
        "training_data=vocab[:len(vocab)-1]\n",
        "# For each words-list (sentence) and tags-list in each tuple of training_data\n",
        "for sent, tags in vocab:\n",
        "    for word in sent:\n",
        "        if word not in word_to_ix:  # word has not been assigned an index yet\n",
        "            word_to_ix[word] = len(word_to_ix)  # Assign each word with a unique index\n",
        "\n",
        "print(f\"Vocabulary: {word_to_ix}\")\n",
        "print(f\"Entities: {ix_to_tag}\")"
      ]
    },
    {
      "cell_type": "code",
      "execution_count": 10,
      "metadata": {
        "colab": {
          "base_uri": "https://localhost:8080/"
        },
        "id": "gwySJCUnVhDH",
        "outputId": "c681a035-93fe-4605-ad32-6b02b508f77c"
      },
      "outputs": [
        {
          "data": {
            "text/plain": [
              "[(['The', 'dog', 'ate', 'the', 'apple'], ['DET', 'NN', 'V', 'DET', 'NN']),\n",
              " (['Everybody', 'read', 'that', 'book'], ['NN', 'V', 'DET', 'NN']),\n",
              " (['She', 'sings', 'beautifully'], ['PRON', 'V', 'ADV']),\n",
              " (['The', 'big', 'red', 'apple', 'fell', 'from', 'the', 'tree'],\n",
              "  ['DET', 'ADJ', 'ADJ', 'NN', 'V', 'IN', 'DET', 'NN']),\n",
              " (['They', 'ran', 'quickly', 'to', 'the', 'park'],\n",
              "  ['PRON', 'V', 'ADV', 'IN', 'DET', 'NN']),\n",
              " (['He', 'read', 'the', 'book', 'slowly'], ['PRON', 'V', 'DET', 'NN', 'ADV']),\n",
              " (['The', 'dogs', 'barked', 'loudly'], ['DET', 'NN', 'V', 'ADV']),\n",
              " (['The', 'tall', 'building', 'stood', 'alone', 'in', 'the', 'city'],\n",
              "  ['DET', 'ADJ', 'NN', 'V', 'ADV', 'IN', 'DET', 'NN']),\n",
              " (['She', 'ate', 'a', 'delicious', 'cake', 'for', 'dessert'],\n",
              "  ['PRON', 'V', 'DET', 'ADJ', 'NN', 'IN', 'NN']),\n",
              " (['The', 'children', 'played', 'happily', 'in', 'the', 'park'],\n",
              "  ['DET', 'NN', 'V', 'ADV', 'IN', 'DET', 'NN']),\n",
              " (['The', 'cats', 'slept', 'on', 'the', 'mat.'],\n",
              "  ['DET', 'NN', 'V', 'IN', 'DET', 'NN']),\n",
              " (['She', 'dances', 'gracefully', 'on', 'stage.'],\n",
              "  ['PRON', 'V', 'ADV', 'IN', 'NN']),\n",
              " (['The', 'flowers', 'bloomed', 'beautifully', 'in', 'the', 'garden.'],\n",
              "  ['DET', 'NN', 'V', 'ADV', 'IN', 'DET', 'NN']),\n",
              " (['He', 'walked', 'slowly', 'down', 'the', 'street.'],\n",
              "  ['PRON', 'V', 'ADV', 'IN', 'DET', 'NN']),\n",
              " (['The', 'children', 'played', 'happily', 'at', 'the', 'park.'],\n",
              "  ['DET', 'NN', 'V', 'ADV', 'IN', 'DET', 'NN']),\n",
              " (['They', 'ran', 'quickly', 'to', 'catch', 'the', 'bus.'],\n",
              "  ['PRON', 'V', 'ADV', 'IN', 'V', 'DET', 'NN']),\n",
              " (['The', 'big', 'yellow', 'sun', 'set', 'over', 'the', 'ocean.'],\n",
              "  ['DET', 'ADJ', 'ADJ', 'NN', 'V', 'IN', 'DET', 'NN']),\n",
              " (['She', 'wore', 'a', 'pretty', 'dress', 'to', 'the', 'party.'],\n",
              "  ['PRON', 'V', 'DET', 'ADJ', 'NN', 'IN', 'DET', 'NN']),\n",
              " (['The', 'old', 'men', 'sat', 'alone', 'on', 'the', 'bench.'],\n",
              "  ['DET', 'ADJ', 'NN', 'V', 'ADV', 'IN', 'DET', 'NN']),\n",
              " (['The', 'cat', 'jumped', 'over', 'the', 'fence'],\n",
              "  ['DET', 'NN', 'V', 'IN', 'DET', 'NN']),\n",
              " (['A', 'bird', 'sang', 'beautifully', 'in', 'the', 'morning'],\n",
              "  ['DET', 'NN', 'V', 'ADV', 'IN', 'DET', 'NN']),\n",
              " (['She', 'ran', 'quickly', 'to', 'catch', 'the', 'bus'],\n",
              "  ['PRON', 'V', 'ADV', 'IN', 'V', 'DET', 'NN']),\n",
              " (['The', 'students', 'studied', 'hard', 'for', 'the', 'exam'],\n",
              "  ['DET', 'NN', 'V', 'ADJ', 'IN', 'DET', 'NN']),\n",
              " (['He', 'ate', 'his', 'dinner', 'quietly'],\n",
              "  ['PRON', 'V', 'DET', 'NN', 'ADV']),\n",
              " (['The', 'sun', 'shone', 'brightly', 'on', 'the', 'beach'],\n",
              "  ['DET', 'NN', 'V', 'ADV', 'IN', 'DET', 'NN']),\n",
              " (['They', 'played', 'happily', 'in', 'the', 'park'],\n",
              "  ['PRON', 'V', 'ADV', 'IN', 'DET', 'NN']),\n",
              " (['The', 'flowers', 'bloomed', 'vividly', 'in', 'the', 'garden'],\n",
              "  ['DET', 'NN', 'V', 'ADV', 'IN', 'DET', 'NN']),\n",
              " (['She', 'slept', 'peacefully', 'throughout', 'the', 'night'],\n",
              "  ['PRON', 'V', 'ADV', 'IN', 'DET', 'NN']),\n",
              " (['The', 'children', 'laughed', 'joyfully', 'at', 'the', 'joke'],\n",
              "  ['DET', 'NN', 'V', 'ADV', 'IN', 'DET', 'NN']),\n",
              " (['He', 'spoke', 'softly', 'to', 'his', 'mother'],\n",
              "  ['PRON', 'V', 'ADV', 'IN', 'DET', 'NN']),\n",
              " (['The', 'baby', 'cried', 'loudly', 'in', 'the', 'room'],\n",
              "  ['DET', 'NN', 'V', 'ADV', 'IN', 'DET', 'NN']),\n",
              " (['They', 'danced', 'gracefully', 'on', 'the', 'stage'],\n",
              "  ['PRON', 'V', 'ADV', 'IN', 'DET', 'NN']),\n",
              " (['The', 'horses', 'galloped', 'swiftly', 'across', 'the', 'field'],\n",
              "  ['DET', 'NN', 'V', 'ADV', 'IN', 'DET', 'NN']),\n",
              " (['She', 'read', 'carefully', 'the', 'instructions'],\n",
              "  ['PRON', 'V', 'ADV', 'DET', 'NN']),\n",
              " (['The', 'dog', 'barked', 'loudly', 'at', 'the', 'stranger'],\n",
              "  ['DET', 'NN', 'V', 'ADV', 'IN', 'DET', 'NN']),\n",
              " (['They', 'swam', 'gracefully', 'in', 'the', 'ocean'],\n",
              "  ['PRON', 'V', 'ADV', 'IN', 'DET', 'NN']),\n",
              " (['The', 'paintings', 'displayed', 'beautifully', 'in', 'the', 'gallery'],\n",
              "  ['DET', 'NN', 'V', 'ADV', 'IN', 'DET', 'NN']),\n",
              " (['He', 'wrote', 'passionately', 'about', 'his', 'experiences'],\n",
              "  ['PRON', 'V', 'ADV', 'IN', 'DET', 'NN']),\n",
              " (['The', 'sun', 'set', 'slowly', 'behind', 'the', 'mountains'],\n",
              "  ['DET', 'NN', 'V', 'ADV', 'IN', 'DET', 'NN']),\n",
              " (['She', 'spoke', 'confidently', 'in', 'front', 'of', 'the', 'audience'],\n",
              "  ['PRON', 'V', 'ADV', 'IN', 'NN', 'IN', 'DET', 'NN']),\n",
              " (['The', 'children', 'played', 'happily', 'in', 'the', 'park'],\n",
              "  ['DET', 'NN', 'V', 'ADV', 'IN', 'DET', 'NN']),\n",
              " (['He', 'smiled', 'warmly', 'at', 'his', 'friends'],\n",
              "  ['PRON', 'V', 'ADV', 'IN', 'DET', 'NN']),\n",
              " (['The', 'car', 'drove', 'swiftly', 'along', 'the', 'highway'],\n",
              "  ['DET', 'NN', 'V', 'ADV', 'IN', 'DET', 'NN']),\n",
              " (['She', 'answered', 'quickly', 'to', 'his', 'question'],\n",
              "  ['PRON', 'V', 'ADV', 'IN', 'DET', 'NN']),\n",
              " (['The', 'students', 'listened', 'attentively', 'to', 'the', 'lecture'],\n",
              "  ['DET', 'NN', 'V', 'ADV', 'IN', 'DET', 'NN']),\n",
              " (['They', 'climbed', 'bravely', 'to', 'the', 'mountain', 'peak'],\n",
              "  ['PRON', 'V', 'ADV', 'IN', 'DET', 'NN', 'NN']),\n",
              " (['The', 'rain', 'fell', 'heavily', 'on', 'the', 'roof'],\n",
              "  ['DET', 'NN', 'V', 'ADV', 'IN', 'DET', 'NN']),\n",
              " (['She', 'ran', 'frantically', 'to', 'catch', 'the', 'bus'],\n",
              "  ['PRON', 'V', 'ADV', 'IN', 'V', 'DET', 'NN']),\n",
              " (['The', 'flowers', 'bloomed', 'colorfully', 'in', 'the', 'garden'],\n",
              "  ['DET', 'NN', 'V', 'ADV', 'IN', 'DET', 'NN']),\n",
              " (['He', 'ate', 'hungrily', 'after', 'a', 'long', 'day'],\n",
              "  ['PRON', 'V', 'ADV', 'IN', 'DET', 'ADJ', 'NN']),\n",
              " (['The', 'cat', 'purred', 'contentedly', 'on', 'the', 'windowsill'],\n",
              "  ['DET', 'NN', 'V', 'ADV', 'IN', 'DET', 'NN']),\n",
              " (['They', 'played', 'enthusiastically', 'in', 'the', 'playground'],\n",
              "  ['PRON', 'V', 'ADV', 'IN', 'DET', 'NN'])]"
            ]
          },
          "execution_count": 10,
          "metadata": {},
          "output_type": "execute_result"
        }
      ],
      "source": [
        "training_data"
      ]
    },
    {
      "cell_type": "code",
      "execution_count": 11,
      "metadata": {
        "id": "kvoDyjMMN9NR"
      },
      "outputs": [],
      "source": [
        "import torch\n",
        "import torch.nn as nn\n",
        "\n",
        "import pennylane as qml\n",
        "\n",
        "\n",
        "class QLSTM(nn.Module):\n",
        "    def __init__(self,\n",
        "                input_size,\n",
        "                hidden_size,\n",
        "                n_qubits=4,\n",
        "                n_qlayers=1,\n",
        "                batch_first=True,\n",
        "                return_sequences=False,\n",
        "                return_state=False,\n",
        "                backend=\"default.qubit\"):\n",
        "        super(QLSTM, self).__init__()\n",
        "        self.n_inputs = input_size\n",
        "        self.hidden_size = hidden_size\n",
        "        self.concat_size = self.n_inputs + self.hidden_size\n",
        "        self.n_qubits = n_qubits\n",
        "        self.n_qlayers = n_qlayers\n",
        "        self.backend = backend  # \"default.qubit\", \"qiskit.basicaer\", \"qiskit.ibm\"\n",
        "\n",
        "        self.batch_first = batch_first\n",
        "        self.return_sequences = return_sequences\n",
        "        self.return_state = return_state\n",
        "\n",
        "        #self.dev = qml.device(\"default.qubit\", wires=self.n_qubits)\n",
        "        #self.dev = qml.device('qiskit.basicaer', wires=self.n_qubits)\n",
        "        #self.dev = qml.device('qiskit.ibm', wires=self.n_qubits)\n",
        "        # use 'qiskit.ibmq' instead to run on hardware\n",
        "\n",
        "        self.wires_forget = [f\"wire_forget_{i}\" for i in range(self.n_qubits)]\n",
        "        self.wires_input = [f\"wire_input_{i}\" for i in range(self.n_qubits)]\n",
        "        self.wires_update = [f\"wire_update_{i}\" for i in range(self.n_qubits)]\n",
        "        self.wires_output = [f\"wire_output_{i}\" for i in range(self.n_qubits)]\n",
        "\n",
        "        self.dev_forget = qml.device(self.backend, wires=self.wires_forget)\n",
        "        self.dev_input = qml.device(self.backend, wires=self.wires_input)\n",
        "        self.dev_update = qml.device(self.backend, wires=self.wires_update)\n",
        "        self.dev_output = qml.device(self.backend, wires=self.wires_output)\n",
        "\n",
        "        def _circuit_forget(inputs, weights):\n",
        "            qml.templates.AngleEmbedding(inputs, wires=self.wires_forget)\n",
        "            qml.templates.BasicEntanglerLayers(weights, wires=self.wires_forget)\n",
        "            return [qml.expval(qml.PauliZ(wires=w)) for w in self.wires_forget]\n",
        "        self.qlayer_forget = qml.QNode(_circuit_forget, self.dev_forget, interface=\"torch\")\n",
        "\n",
        "        def _circuit_input(inputs, weights):\n",
        "            qml.templates.AngleEmbedding(inputs, wires=self.wires_input)\n",
        "            qml.templates.BasicEntanglerLayers(weights, wires=self.wires_input)\n",
        "            return [qml.expval(qml.PauliZ(wires=w)) for w in self.wires_input]\n",
        "        self.qlayer_input = qml.QNode(_circuit_input, self.dev_input, interface=\"torch\")\n",
        "\n",
        "        def _circuit_update(inputs, weights):\n",
        "            qml.templates.AngleEmbedding(inputs, wires=self.wires_update)\n",
        "            qml.templates.BasicEntanglerLayers(weights, wires=self.wires_update)\n",
        "            return [qml.expval(qml.PauliZ(wires=w)) for w in self.wires_update]\n",
        "        self.qlayer_update = qml.QNode(_circuit_update, self.dev_update, interface=\"torch\")\n",
        "\n",
        "        def _circuit_output(inputs, weights):\n",
        "            qml.templates.AngleEmbedding(inputs, wires=self.wires_output)\n",
        "            qml.templates.BasicEntanglerLayers(weights, wires=self.wires_output)\n",
        "            return [qml.expval(qml.PauliZ(wires=w)) for w in self.wires_output]\n",
        "        self.qlayer_output = qml.QNode(_circuit_output, self.dev_output, interface=\"torch\")\n",
        "\n",
        "        weight_shapes = {\"weights\": (n_qlayers, n_qubits)}\n",
        "        print(f\"weight_shapes = (n_qlayers, n_qubits) = ({n_qlayers}, {n_qubits})\")\n",
        "\n",
        "        self.clayer_in = torch.nn.Linear(self.concat_size, n_qubits)\n",
        "        self.VQC = {\n",
        "            'forget': qml.qnn.TorchLayer(self.qlayer_forget, weight_shapes),\n",
        "            'input': qml.qnn.TorchLayer(self.qlayer_input, weight_shapes),\n",
        "            'update': qml.qnn.TorchLayer(self.qlayer_update, weight_shapes),\n",
        "            'output': qml.qnn.TorchLayer(self.qlayer_output, weight_shapes)\n",
        "        }\n",
        "        self.clayer_out = torch.nn.Linear(self.n_qubits, self.hidden_size)\n",
        "        #self.clayer_out = [torch.nn.Linear(n_qubits, self.hidden_size) for _ in range(4)]\n",
        "\n",
        "    def forward(self, x, init_states=None):\n",
        "        '''\n",
        "        x.shape is (batch_size, seq_length, feature_size)\n",
        "        recurrent_activation -> sigmoid\n",
        "        activation -> tanh\n",
        "        '''\n",
        "        if self.batch_first is True:\n",
        "            batch_size, seq_length, features_size = x.size()\n",
        "        else:\n",
        "            seq_length, batch_size, features_size = x.size()\n",
        "\n",
        "        hidden_seq = []\n",
        "        if init_states is None:\n",
        "            h_t = torch.zeros(batch_size, self.hidden_size)  # hidden state (output)\n",
        "            c_t = torch.zeros(batch_size, self.hidden_size)  # cell state\n",
        "        else:\n",
        "            # for now we ignore the fact that in PyTorch you can stack multiple RNNs\n",
        "            # so we take only the first elements of the init_states tuple init_states[0][0], init_states[1][0]\n",
        "            h_t, c_t = init_states\n",
        "            h_t = h_t[0]\n",
        "            c_t = c_t[0]\n",
        "\n",
        "        for t in range(seq_length):\n",
        "            # get features from the t-th element in seq, for all entries in the batch\n",
        "            x_t = x[:, t, :]\n",
        "\n",
        "            # Concatenate input and hidden state\n",
        "            v_t = torch.cat((h_t, x_t), dim=1)\n",
        "\n",
        "            # match qubit dimension\n",
        "            y_t = self.clayer_in(v_t)\n",
        "\n",
        "            f_t = torch.sigmoid(self.clayer_out(self.VQC['forget'](y_t)))  # forget block\n",
        "            i_t = torch.sigmoid(self.clayer_out(self.VQC['input'](y_t)))  # input block\n",
        "            g_t = torch.tanh(self.clayer_out(self.VQC['update'](y_t)))  # update block\n",
        "            o_t = torch.sigmoid(self.clayer_out(self.VQC['output'](y_t))) # output block\n",
        "\n",
        "            c_t = (f_t * c_t) + (i_t * g_t)\n",
        "            h_t = o_t * torch.tanh(c_t)\n",
        "\n",
        "            hidden_seq.append(h_t.unsqueeze(0))\n",
        "        hidden_seq = torch.cat(hidden_seq, dim=0)\n",
        "        hidden_seq = hidden_seq.transpose(0, 1).contiguous()\n",
        "        return hidden_seq, (h_t, c_t)\n"
      ]
    },
    {
      "cell_type": "code",
      "execution_count": 12,
      "metadata": {
        "id": "Hta5OmUmzxME"
      },
      "outputs": [],
      "source": [
        "class LSTMTagger(nn.Module):\n",
        "\n",
        "    def __init__(self, embedding_dim, hidden_dim, vocab_size, tagset_size, n_qubits=0):\n",
        "        super(LSTMTagger, self).__init__()\n",
        "        self.hidden_dim = hidden_dim\n",
        "\n",
        "        self.word_embeddings = nn.Embedding(vocab_size, embedding_dim)\n",
        "\n",
        "        # The LSTM takes word embeddings as inputs, and outputs hidden states\n",
        "        # with dimensionality hidden_dim.\n",
        "        if n_qubits > 0:\n",
        "            print(\"Tagger will use Quantum LSTM\")\n",
        "            self.lstm = QLSTM(embedding_dim, hidden_dim, n_qubits=n_qubits)\n",
        "        else:\n",
        "            print(\"Tagger will use Classical LSTM\")\n",
        "            self.lstm = nn.LSTM(embedding_dim, hidden_dim)\n",
        "\n",
        "        # The linear layer that maps from hidden state space to tag space\n",
        "        self.hidden2tag = nn.Linear(hidden_dim, tagset_size)\n",
        "\n",
        "    def forward(self, sentence):\n",
        "        embeds = self.word_embeddings(sentence)\n",
        "        lstm_out, _ = self.lstm(embeds.view(len(sentence), 1, -1))\n",
        "        tag_logits = self.hidden2tag(lstm_out.view(len(sentence), -1))\n",
        "        tag_scores = F.log_softmax(tag_logits, dim=1)\n",
        "        return tag_scores"
      ]
    },
    {
      "cell_type": "code",
      "execution_count": 13,
      "metadata": {
        "id": "QuyZlHVKzxME"
      },
      "outputs": [],
      "source": [
        "embedding_dim = 8\n",
        "hidden_dim = 6\n",
        "n_epochs = 100"
      ]
    },
    {
      "cell_type": "code",
      "execution_count": 14,
      "metadata": {
        "colab": {
          "base_uri": "https://localhost:8080/"
        },
        "id": "t9LJiMsBzxMF",
        "outputId": "35d0ade8-67cc-42cd-df8d-a2b6ba9c4f48"
      },
      "outputs": [
        {
          "name": "stdout",
          "output_type": "stream",
          "text": [
            "Tagger will use Classical LSTM\n"
          ]
        }
      ],
      "source": [
        "model_classical = LSTMTagger(embedding_dim,\n",
        "                        hidden_dim,\n",
        "                        vocab_size=len(word_to_ix),\n",
        "                        tagset_size=len(tag_to_ix),\n",
        "                        n_qubits=0)"
      ]
    },
    {
      "cell_type": "markdown",
      "metadata": {
        "id": "WuCrZc9fzxMF"
      },
      "source": [
        "## Training"
      ]
    },
    {
      "cell_type": "code",
      "execution_count": 16,
      "metadata": {
        "id": "ZzcGZlk3zxMF"
      },
      "outputs": [],
      "source": [
        "def train(model, n_epochs):\n",
        "    loss_function = nn.NLLLoss()\n",
        "    optimizer = optim.SGD(model.parameters(), lr=0.1)\n",
        "\n",
        "    history = {\n",
        "        'loss': [],\n",
        "        'acc': []\n",
        "    }\n",
        "    for epoch in range(n_epochs):\n",
        "        losses = []\n",
        "        preds = []\n",
        "        targets = []\n",
        "        for sentence, tags in training_data:\n",
        "            # Step 1. Remember that Pytorch accumulates gradients.\n",
        "            # We need to clear them out before each instance\n",
        "            model.zero_grad()\n",
        "\n",
        "            # Step 2. Get our inputs ready for the network, that is, turn them into\n",
        "            # Tensors of word indices.\n",
        "            sentence_in = prepare_sequence(sentence, word_to_ix)\n",
        "            labels = prepare_sequence(tags, tag_to_ix)\n",
        "\n",
        "            # Step 3. Run our forward pass.\n",
        "            tag_scores = model(sentence_in)\n",
        "\n",
        "            # Step 4. Compute the loss, gradients, and update the parameters by\n",
        "            #  calling optimizer.step()\n",
        "            loss = loss_function(tag_scores, labels)\n",
        "            loss.backward()\n",
        "            optimizer.step()\n",
        "            losses.append(float(loss))\n",
        "\n",
        "            probs = torch.softmax(tag_scores, dim=-1)\n",
        "            preds.append(probs.argmax(dim=-1))\n",
        "            targets.append(labels)\n",
        "\n",
        "        avg_loss = np.mean(losses)\n",
        "        history['loss'].append(avg_loss)\n",
        "\n",
        "        preds = torch.cat(preds)\n",
        "        targets = torch.cat(targets)\n",
        "        corrects = (preds == targets)\n",
        "        accuracy = corrects.sum().float() / float(targets.size(0) )\n",
        "        history['acc'].append(accuracy)\n",
        "\n",
        "        print(f\"Epoch {epoch+1} / {n_epochs}: Loss = {avg_loss:.3f} Acc = {accuracy:.2f}\")\n",
        "\n",
        "    return history"
      ]
    },
    {
      "cell_type": "code",
      "execution_count": 17,
      "metadata": {
        "colab": {
          "base_uri": "https://localhost:8080/"
        },
        "id": "oEFnWoV4zxMG",
        "outputId": "76072c5c-4ba2-4e27-8443-ba30bdba7857"
      },
      "outputs": [
        {
          "name": "stdout",
          "output_type": "stream",
          "text": [
            "Epoch 1 / 100: Loss = 1.859 Acc = 0.20\n",
            "Epoch 2 / 100: Loss = 1.812 Acc = 0.22\n",
            "Epoch 3 / 100: Loss = 1.783 Acc = 0.28\n",
            "Epoch 4 / 100: Loss = 1.753 Acc = 0.29\n",
            "Epoch 5 / 100: Loss = 1.714 Acc = 0.32\n",
            "Epoch 6 / 100: Loss = 1.662 Acc = 0.36\n",
            "Epoch 7 / 100: Loss = 1.592 Acc = 0.45\n",
            "Epoch 8 / 100: Loss = 1.505 Acc = 0.47\n",
            "Epoch 9 / 100: Loss = 1.414 Acc = 0.51\n",
            "Epoch 10 / 100: Loss = 1.327 Acc = 0.54\n",
            "Epoch 11 / 100: Loss = 1.246 Acc = 0.56\n",
            "Epoch 12 / 100: Loss = 1.172 Acc = 0.58\n",
            "Epoch 13 / 100: Loss = 1.102 Acc = 0.60\n",
            "Epoch 14 / 100: Loss = 1.038 Acc = 0.64\n",
            "Epoch 15 / 100: Loss = 0.981 Acc = 0.66\n",
            "Epoch 16 / 100: Loss = 0.930 Acc = 0.68\n",
            "Epoch 17 / 100: Loss = 0.883 Acc = 0.69\n",
            "Epoch 18 / 100: Loss = 0.838 Acc = 0.74\n",
            "Epoch 19 / 100: Loss = 0.797 Acc = 0.78\n",
            "Epoch 20 / 100: Loss = 0.757 Acc = 0.79\n",
            "Epoch 21 / 100: Loss = 0.718 Acc = 0.81\n",
            "Epoch 22 / 100: Loss = 0.679 Acc = 0.82\n",
            "Epoch 23 / 100: Loss = 0.641 Acc = 0.83\n",
            "Epoch 24 / 100: Loss = 0.604 Acc = 0.83\n",
            "Epoch 25 / 100: Loss = 0.569 Acc = 0.84\n",
            "Epoch 26 / 100: Loss = 0.536 Acc = 0.85\n",
            "Epoch 27 / 100: Loss = 0.504 Acc = 0.86\n",
            "Epoch 28 / 100: Loss = 0.475 Acc = 0.87\n",
            "Epoch 29 / 100: Loss = 0.447 Acc = 0.87\n",
            "Epoch 30 / 100: Loss = 0.422 Acc = 0.88\n",
            "Epoch 31 / 100: Loss = 0.398 Acc = 0.89\n",
            "Epoch 32 / 100: Loss = 0.377 Acc = 0.90\n",
            "Epoch 33 / 100: Loss = 0.357 Acc = 0.90\n",
            "Epoch 34 / 100: Loss = 0.338 Acc = 0.90\n",
            "Epoch 35 / 100: Loss = 0.321 Acc = 0.91\n",
            "Epoch 36 / 100: Loss = 0.305 Acc = 0.91\n",
            "Epoch 37 / 100: Loss = 0.290 Acc = 0.92\n",
            "Epoch 38 / 100: Loss = 0.277 Acc = 0.92\n",
            "Epoch 39 / 100: Loss = 0.264 Acc = 0.92\n",
            "Epoch 40 / 100: Loss = 0.253 Acc = 0.93\n",
            "Epoch 41 / 100: Loss = 0.242 Acc = 0.93\n",
            "Epoch 42 / 100: Loss = 0.231 Acc = 0.94\n",
            "Epoch 43 / 100: Loss = 0.221 Acc = 0.94\n",
            "Epoch 44 / 100: Loss = 0.211 Acc = 0.94\n",
            "Epoch 45 / 100: Loss = 0.202 Acc = 0.94\n",
            "Epoch 46 / 100: Loss = 0.193 Acc = 0.95\n",
            "Epoch 47 / 100: Loss = 0.184 Acc = 0.95\n",
            "Epoch 48 / 100: Loss = 0.176 Acc = 0.96\n",
            "Epoch 49 / 100: Loss = 0.168 Acc = 0.96\n",
            "Epoch 50 / 100: Loss = 0.161 Acc = 0.96\n",
            "Epoch 51 / 100: Loss = 0.154 Acc = 0.97\n",
            "Epoch 52 / 100: Loss = 0.148 Acc = 0.97\n",
            "Epoch 53 / 100: Loss = 0.142 Acc = 0.97\n",
            "Epoch 54 / 100: Loss = 0.136 Acc = 0.97\n",
            "Epoch 55 / 100: Loss = 0.131 Acc = 0.98\n",
            "Epoch 56 / 100: Loss = 0.127 Acc = 0.98\n",
            "Epoch 57 / 100: Loss = 0.122 Acc = 0.98\n",
            "Epoch 58 / 100: Loss = 0.118 Acc = 0.98\n",
            "Epoch 59 / 100: Loss = 0.114 Acc = 0.98\n",
            "Epoch 60 / 100: Loss = 0.110 Acc = 0.98\n",
            "Epoch 61 / 100: Loss = 0.106 Acc = 0.98\n",
            "Epoch 62 / 100: Loss = 0.103 Acc = 0.98\n",
            "Epoch 63 / 100: Loss = 0.100 Acc = 0.98\n",
            "Epoch 64 / 100: Loss = 0.097 Acc = 0.98\n",
            "Epoch 65 / 100: Loss = 0.094 Acc = 0.98\n",
            "Epoch 66 / 100: Loss = 0.091 Acc = 0.98\n",
            "Epoch 67 / 100: Loss = 0.088 Acc = 0.99\n",
            "Epoch 68 / 100: Loss = 0.085 Acc = 0.99\n",
            "Epoch 69 / 100: Loss = 0.083 Acc = 0.99\n",
            "Epoch 70 / 100: Loss = 0.080 Acc = 0.99\n",
            "Epoch 71 / 100: Loss = 0.078 Acc = 0.99\n",
            "Epoch 72 / 100: Loss = 0.076 Acc = 0.99\n",
            "Epoch 73 / 100: Loss = 0.074 Acc = 0.99\n",
            "Epoch 74 / 100: Loss = 0.072 Acc = 0.99\n",
            "Epoch 75 / 100: Loss = 0.070 Acc = 0.99\n",
            "Epoch 76 / 100: Loss = 0.068 Acc = 0.99\n",
            "Epoch 77 / 100: Loss = 0.066 Acc = 0.99\n",
            "Epoch 78 / 100: Loss = 0.064 Acc = 0.99\n",
            "Epoch 79 / 100: Loss = 0.063 Acc = 0.99\n",
            "Epoch 80 / 100: Loss = 0.061 Acc = 0.99\n",
            "Epoch 81 / 100: Loss = 0.060 Acc = 0.99\n",
            "Epoch 82 / 100: Loss = 0.058 Acc = 0.99\n",
            "Epoch 83 / 100: Loss = 0.057 Acc = 0.99\n",
            "Epoch 84 / 100: Loss = 0.055 Acc = 0.99\n",
            "Epoch 85 / 100: Loss = 0.054 Acc = 0.99\n",
            "Epoch 86 / 100: Loss = 0.053 Acc = 0.99\n",
            "Epoch 87 / 100: Loss = 0.052 Acc = 0.99\n",
            "Epoch 88 / 100: Loss = 0.050 Acc = 0.99\n",
            "Epoch 89 / 100: Loss = 0.049 Acc = 0.99\n",
            "Epoch 90 / 100: Loss = 0.048 Acc = 0.99\n",
            "Epoch 91 / 100: Loss = 0.047 Acc = 0.99\n",
            "Epoch 92 / 100: Loss = 0.046 Acc = 0.99\n",
            "Epoch 93 / 100: Loss = 0.045 Acc = 0.99\n",
            "Epoch 94 / 100: Loss = 0.044 Acc = 1.00\n",
            "Epoch 95 / 100: Loss = 0.043 Acc = 1.00\n",
            "Epoch 96 / 100: Loss = 0.043 Acc = 1.00\n",
            "Epoch 97 / 100: Loss = 0.042 Acc = 1.00\n",
            "Epoch 98 / 100: Loss = 0.041 Acc = 1.00\n",
            "Epoch 99 / 100: Loss = 0.040 Acc = 1.00\n",
            "Epoch 100 / 100: Loss = 0.039 Acc = 1.00\n"
          ]
        }
      ],
      "source": [
        "history_classical = train(model_classical, n_epochs)"
      ]
    },
    {
      "cell_type": "code",
      "execution_count": 18,
      "metadata": {
        "id": "hH1pV5k6zxMG"
      },
      "outputs": [],
      "source": [
        "def print_result(model):\n",
        "    with torch.no_grad():\n",
        "        input_sentence = \"We heard the birds chirping loudly in the morning\".split() #training_data[8][0]\n",
        "        labels = [\"PRON\", \"V\", \"DET\", \"NN\", \"V\", \"ADV\", \"IN\", \"DET\", \"NN\"] # training_data[8][1]\n",
        "        inputs = prepare_sequence(input_sentence, word_to_ix)\n",
        "        tag_scores = model(inputs)\n",
        "\n",
        "        tag_ids = torch.argmax(tag_scores, dim=1).numpy()\n",
        "        tag_labels = [ix_to_tag[k] for k in tag_ids]\n",
        "        print(f\"Sentence:  {input_sentence}\")\n",
        "        print(f\"Labels:    {labels}\")\n",
        "        print(f\"Predicted: {tag_labels}\")"
      ]
    },
    {
      "cell_type": "code",
      "execution_count": 19,
      "metadata": {
        "colab": {
          "base_uri": "https://localhost:8080/"
        },
        "id": "9van-6JbzxMG",
        "outputId": "3dc5689f-4cdc-4cab-c1a4-42e73f8d1531"
      },
      "outputs": [
        {
          "name": "stdout",
          "output_type": "stream",
          "text": [
            "Sentence:  ['We', 'heard', 'the', 'birds', 'chirping', 'loudly', 'in', 'the', 'morning']\n",
            "Labels:    ['PRON', 'V', 'DET', 'NN', 'V', 'ADV', 'IN', 'DET', 'NN']\n",
            "Predicted: ['V', 'ADV', 'DET', 'NN', 'NN', 'ADV', 'IN', 'DET', 'NN']\n"
          ]
        }
      ],
      "source": [
        "print_result(model_classical)"
      ]
    },
    {
      "cell_type": "code",
      "execution_count": 20,
      "metadata": {
        "colab": {
          "base_uri": "https://localhost:8080/"
        },
        "id": "KiX9Ke21zxMG",
        "outputId": "4721c242-7461-49de-9410-8341b354a37f"
      },
      "outputs": [
        {
          "name": "stdout",
          "output_type": "stream",
          "text": [
            "Tagger will use Quantum LSTM\n",
            "weight_shapes = (n_qlayers, n_qubits) = (1, 4)\n"
          ]
        }
      ],
      "source": [
        "n_qubits = 4\n",
        "\n",
        "model_quantum = LSTMTagger(embedding_dim,\n",
        "                        hidden_dim,\n",
        "                        vocab_size=len(word_to_ix),\n",
        "                        tagset_size=len(tag_to_ix),\n",
        "                        n_qubits=n_qubits)"
      ]
    },
    {
      "cell_type": "code",
      "execution_count": 21,
      "metadata": {
        "colab": {
          "base_uri": "https://localhost:8080/"
        },
        "id": "7w0ZhFVfzxMG",
        "outputId": "94ec830e-8d42-4088-a94a-d5ff3184b918"
      },
      "outputs": [
        {
          "name": "stdout",
          "output_type": "stream",
          "text": [
            "Epoch 1 / 100: Loss = 1.908 Acc = 0.19\n",
            "Epoch 2 / 100: Loss = 1.832 Acc = 0.24\n",
            "Epoch 3 / 100: Loss = 1.810 Acc = 0.24\n",
            "Epoch 4 / 100: Loss = 1.798 Acc = 0.32\n",
            "Epoch 5 / 100: Loss = 1.783 Acc = 0.36\n",
            "Epoch 6 / 100: Loss = 1.761 Acc = 0.35\n",
            "Epoch 7 / 100: Loss = 1.724 Acc = 0.39\n",
            "Epoch 8 / 100: Loss = 1.670 Acc = 0.43\n",
            "Epoch 9 / 100: Loss = 1.601 Acc = 0.43\n",
            "Epoch 10 / 100: Loss = 1.531 Acc = 0.43\n",
            "Epoch 11 / 100: Loss = 1.473 Acc = 0.44\n",
            "Epoch 12 / 100: Loss = 1.426 Acc = 0.45\n",
            "Epoch 13 / 100: Loss = 1.387 Acc = 0.46\n",
            "Epoch 14 / 100: Loss = 1.355 Acc = 0.46\n",
            "Epoch 15 / 100: Loss = 1.329 Acc = 0.47\n",
            "Epoch 16 / 100: Loss = 1.301 Acc = 0.48\n",
            "Epoch 17 / 100: Loss = 1.276 Acc = 0.50\n",
            "Epoch 18 / 100: Loss = 1.253 Acc = 0.50\n",
            "Epoch 19 / 100: Loss = 1.229 Acc = 0.53\n",
            "Epoch 20 / 100: Loss = 1.204 Acc = 0.54\n",
            "Epoch 21 / 100: Loss = 1.176 Acc = 0.56\n",
            "Epoch 22 / 100: Loss = 1.158 Acc = 0.56\n",
            "Epoch 23 / 100: Loss = 1.146 Acc = 0.58\n",
            "Epoch 24 / 100: Loss = 1.126 Acc = 0.57\n",
            "Epoch 25 / 100: Loss = 1.121 Acc = 0.57\n",
            "Epoch 26 / 100: Loss = 1.078 Acc = 0.59\n",
            "Epoch 27 / 100: Loss = 1.047 Acc = 0.61\n",
            "Epoch 28 / 100: Loss = 1.024 Acc = 0.63\n",
            "Epoch 29 / 100: Loss = 1.042 Acc = 0.60\n",
            "Epoch 30 / 100: Loss = 1.017 Acc = 0.61\n",
            "Epoch 31 / 100: Loss = 1.022 Acc = 0.63\n",
            "Epoch 32 / 100: Loss = 0.974 Acc = 0.63\n",
            "Epoch 33 / 100: Loss = 1.005 Acc = 0.59\n",
            "Epoch 34 / 100: Loss = 0.931 Acc = 0.64\n",
            "Epoch 35 / 100: Loss = 0.935 Acc = 0.64\n",
            "Epoch 36 / 100: Loss = 0.963 Acc = 0.62\n",
            "Epoch 37 / 100: Loss = 0.993 Acc = 0.59\n",
            "Epoch 38 / 100: Loss = 0.902 Acc = 0.66\n",
            "Epoch 39 / 100: Loss = 0.913 Acc = 0.65\n",
            "Epoch 40 / 100: Loss = 0.925 Acc = 0.66\n",
            "Epoch 41 / 100: Loss = 0.894 Acc = 0.63\n",
            "Epoch 42 / 100: Loss = 0.853 Acc = 0.67\n",
            "Epoch 43 / 100: Loss = 0.914 Acc = 0.66\n",
            "Epoch 44 / 100: Loss = 0.938 Acc = 0.66\n",
            "Epoch 45 / 100: Loss = 0.839 Acc = 0.73\n",
            "Epoch 46 / 100: Loss = 0.841 Acc = 0.73\n",
            "Epoch 47 / 100: Loss = 1.023 Acc = 0.62\n",
            "Epoch 48 / 100: Loss = 0.964 Acc = 0.67\n",
            "Epoch 49 / 100: Loss = 0.839 Acc = 0.72\n",
            "Epoch 50 / 100: Loss = 0.777 Acc = 0.77\n",
            "Epoch 51 / 100: Loss = 0.953 Acc = 0.65\n",
            "Epoch 52 / 100: Loss = 0.746 Acc = 0.75\n",
            "Epoch 53 / 100: Loss = 0.803 Acc = 0.72\n",
            "Epoch 54 / 100: Loss = 0.728 Acc = 0.74\n",
            "Epoch 55 / 100: Loss = 0.686 Acc = 0.77\n",
            "Epoch 56 / 100: Loss = 0.680 Acc = 0.79\n",
            "Epoch 57 / 100: Loss = 0.668 Acc = 0.78\n",
            "Epoch 58 / 100: Loss = 0.689 Acc = 0.77\n",
            "Epoch 59 / 100: Loss = 0.643 Acc = 0.79\n",
            "Epoch 60 / 100: Loss = 0.691 Acc = 0.76\n",
            "Epoch 61 / 100: Loss = 0.730 Acc = 0.72\n",
            "Epoch 62 / 100: Loss = 0.709 Acc = 0.76\n",
            "Epoch 63 / 100: Loss = 0.714 Acc = 0.75\n",
            "Epoch 64 / 100: Loss = 0.585 Acc = 0.81\n",
            "Epoch 65 / 100: Loss = 0.562 Acc = 0.82\n",
            "Epoch 66 / 100: Loss = 0.713 Acc = 0.77\n",
            "Epoch 67 / 100: Loss = 0.747 Acc = 0.71\n",
            "Epoch 68 / 100: Loss = 0.749 Acc = 0.73\n",
            "Epoch 69 / 100: Loss = 0.838 Acc = 0.69\n",
            "Epoch 70 / 100: Loss = 0.868 Acc = 0.65\n",
            "Epoch 71 / 100: Loss = 0.594 Acc = 0.80\n",
            "Epoch 72 / 100: Loss = 0.586 Acc = 0.80\n",
            "Epoch 73 / 100: Loss = 0.557 Acc = 0.81\n",
            "Epoch 74 / 100: Loss = 0.627 Acc = 0.78\n",
            "Epoch 75 / 100: Loss = 0.525 Acc = 0.80\n",
            "Epoch 76 / 100: Loss = 0.647 Acc = 0.77\n",
            "Epoch 77 / 100: Loss = 0.499 Acc = 0.82\n",
            "Epoch 78 / 100: Loss = 0.478 Acc = 0.84\n",
            "Epoch 79 / 100: Loss = 0.580 Acc = 0.79\n",
            "Epoch 80 / 100: Loss = 0.783 Acc = 0.74\n",
            "Epoch 81 / 100: Loss = 0.525 Acc = 0.82\n",
            "Epoch 82 / 100: Loss = 0.643 Acc = 0.75\n",
            "Epoch 83 / 100: Loss = 0.540 Acc = 0.80\n",
            "Epoch 84 / 100: Loss = 0.562 Acc = 0.78\n",
            "Epoch 85 / 100: Loss = 0.754 Acc = 0.73\n",
            "Epoch 86 / 100: Loss = 0.652 Acc = 0.74\n",
            "Epoch 87 / 100: Loss = 0.523 Acc = 0.82\n",
            "Epoch 88 / 100: Loss = 0.568 Acc = 0.77\n",
            "Epoch 89 / 100: Loss = 0.483 Acc = 0.82\n",
            "Epoch 90 / 100: Loss = 0.491 Acc = 0.82\n",
            "Epoch 91 / 100: Loss = 0.436 Acc = 0.84\n",
            "Epoch 92 / 100: Loss = 0.440 Acc = 0.84\n",
            "Epoch 93 / 100: Loss = 0.419 Acc = 0.85\n",
            "Epoch 94 / 100: Loss = 0.451 Acc = 0.84\n",
            "Epoch 95 / 100: Loss = 0.751 Acc = 0.73\n",
            "Epoch 96 / 100: Loss = 0.604 Acc = 0.76\n",
            "Epoch 97 / 100: Loss = 0.649 Acc = 0.77\n",
            "Epoch 98 / 100: Loss = 0.471 Acc = 0.83\n",
            "Epoch 99 / 100: Loss = 0.498 Acc = 0.83\n",
            "Epoch 100 / 100: Loss = 0.526 Acc = 0.82\n"
          ]
        }
      ],
      "source": [
        "history_quantum = train(model_quantum, n_epochs)"
      ]
    },
    {
      "cell_type": "code",
      "execution_count": 22,
      "metadata": {
        "colab": {
          "base_uri": "https://localhost:8080/"
        },
        "id": "J7Grf8PHzxMH",
        "outputId": "af77d073-bfe8-4286-96ae-54e5e58adaa7"
      },
      "outputs": [
        {
          "name": "stdout",
          "output_type": "stream",
          "text": [
            "Sentence:  ['We', 'heard', 'the', 'birds', 'chirping', 'loudly', 'in', 'the', 'morning']\n",
            "Labels:    ['PRON', 'V', 'DET', 'NN', 'V', 'ADV', 'IN', 'DET', 'NN']\n",
            "Predicted: ['V', 'NN', 'DET', 'V', 'ADV', 'ADV', 'IN', 'DET', 'V']\n"
          ]
        }
      ],
      "source": [
        "print_result(model_quantum)"
      ]
    },
    {
      "cell_type": "code",
      "execution_count": 23,
      "metadata": {
        "id": "RTuJa1N6zKRj"
      },
      "outputs": [],
      "source": [
        "def qlstm_circuit(inputs, weights):\n",
        "    qml.AmplitudeEmbedding(inputs, wires=range(n_qubits), normalize=True)\n",
        "\n",
        "    # Variational layer 1\n",
        "    for i in range(n_qubits):\n",
        "        qml.RX(weights[0, i], wires=i)\n",
        "    for i in range(n_qubits):\n",
        "        qml.RY(weights[1, i], wires=i)\n",
        "\n",
        "    qml.broadcast(qml.CNOT, wires=range(n_qubits), pattern=\"chain\")\n",
        "\n",
        "    # Variational layer 2\n",
        "    for i in range(n_qubits):\n",
        "        qml.RZ(weights[2, i], wires=i)\n",
        "\n",
        "    qml.broadcast(qml.CZ, wires=range(n_qubits), pattern=\"chain\")\n",
        "\n",
        "\n",
        "    return [qml.expval(qml.PauliZ(wires=i)) for i in range(n_qubits)]"
      ]
    },
    {
      "cell_type": "code",
      "execution_count": 33,
      "metadata": {},
      "outputs": [],
      "source": [
        "def create_custom_circuit(dev, wires_list):\n",
        "    @qml.qnode(dev, interface=\"torch\")\n",
        "    def circuit(inputs, weights):\n",
        "        # Pad inputs to required length (16 for 4 qubits)\n",
        "        qml.AmplitudeEmbedding(inputs, \n",
        "                              wires=wires_list, \n",
        "                              normalize=True,\n",
        "                              pad_with=0.0)\n",
        "\n",
        "        # Variational layer 1\n",
        "        for i, wire in enumerate(wires_list):\n",
        "            qml.RX(weights[0, i], wires=wire)\n",
        "        for i, wire in enumerate(wires_list):\n",
        "            qml.RY(weights[1, i], wires=wire)\n",
        "\n",
        "        # CNOT gates between adjacent qubits\n",
        "        for i in range(len(wires_list) - 1):\n",
        "            qml.CNOT(wires=[wires_list[i], wires_list[i + 1]])\n",
        "\n",
        "        # Variational layer 2\n",
        "        for i, wire in enumerate(wires_list):\n",
        "            qml.RZ(weights[2, i], wires=wire)\n",
        "\n",
        "        # CZ gates between adjacent qubits\n",
        "        for i in range(len(wires_list) - 1):\n",
        "            qml.CZ(wires=[wires_list[i], wires_list[i + 1]])\n",
        "\n",
        "        return [qml.expval(qml.PauliZ(wires=w)) for w in wires_list]\n",
        "    \n",
        "    return circuit"
      ]
    },
    {
      "cell_type": "code",
      "execution_count": 34,
      "metadata": {
        "colab": {
          "base_uri": "https://localhost:8080/",
          "height": 1000
        },
        "id": "ZL_Cvf_pzRy4",
        "outputId": "2c8a916a-7eac-4a6d-bccd-039e4110a114"
      },
      "outputs": [
        {
          "name": "stdout",
          "output_type": "stream",
          "text": [
            "Tagger will use Quantum LSTM\n",
            "weight_shapes = (n_qlayers, n_qubits) = (1, 4)\n"
          ]
        }
      ],
      "source": [
        "n_qubits = 4\n",
        "\n",
        "# Define wire labels for each gate type\n",
        "wires_forget = [f\"wire_forget_{i}\" for i in range(n_qubits)]\n",
        "wires_input = [f\"wire_input_{i}\" for i in range(n_qubits)]\n",
        "wires_update = [f\"wire_update_{i}\" for i in range(n_qubits)]\n",
        "wires_output = [f\"wire_output_{i}\" for i in range(n_qubits)]\n",
        "\n",
        "# Create devices with explicit wire labels\n",
        "dev_forget = qml.device(\"default.qubit\", wires=wires_forget)\n",
        "dev_input = qml.device(\"default.qubit\", wires=wires_input)\n",
        "dev_update = qml.device(\"default.qubit\", wires=wires_update)\n",
        "dev_output = qml.device(\"default.qubit\", wires=wires_output)\n",
        "\n",
        "model_quantum = LSTMTagger(embedding_dim,\n",
        "                          hidden_dim,\n",
        "                          vocab_size=len(word_to_ix),\n",
        "                          tagset_size=len(tag_to_ix),\n",
        "                          n_qubits=n_qubits)\n",
        "\n",
        "# Replace the quantum circuits in the QLSTM layer with properly wired circuits\n",
        "model_quantum.lstm.dev_forget = dev_forget\n",
        "model_quantum.lstm.dev_input = dev_input\n",
        "model_quantum.lstm.dev_update = dev_update\n",
        "model_quantum.lstm.dev_output = dev_output\n",
        "\n",
        "model_quantum.lstm.qlayer_forget = create_custom_circuit(dev_forget, wires_forget)\n",
        "model_quantum.lstm.qlayer_input = create_custom_circuit(dev_input, wires_input)\n",
        "model_quantum.lstm.qlayer_update = create_custom_circuit(dev_update, wires_update)\n",
        "model_quantum.lstm.qlayer_output = create_custom_circuit(dev_output, wires_output)\n",
        "\n",
        "# Update the weight shapes for 3 layers (RX, RY, RZ)\n",
        "weight_shapes = {\"weights\": (3, n_qubits)}\n",
        "model_quantum.lstm.VQC = {\n",
        "    'forget': qml.qnn.TorchLayer(model_quantum.lstm.qlayer_forget, weight_shapes),\n",
        "    'input': qml.qnn.TorchLayer(model_quantum.lstm.qlayer_input, weight_shapes),\n",
        "    'update': qml.qnn.TorchLayer(model_quantum.lstm.qlayer_update, weight_shapes),\n",
        "    'output': qml.qnn.TorchLayer(model_quantum.lstm.qlayer_output, weight_shapes)\n",
        "}"
      ]
    },
    {
      "cell_type": "code",
      "execution_count": 35,
      "metadata": {},
      "outputs": [
        {
          "name": "stdout",
          "output_type": "stream",
          "text": [
            "Epoch 1 / 100: Loss = 1.857 Acc = 0.22\n",
            "Epoch 2 / 100: Loss = 1.823 Acc = 0.24\n",
            "Epoch 3 / 100: Loss = 1.812 Acc = 0.24\n",
            "Epoch 4 / 100: Loss = 1.808 Acc = 0.24\n",
            "Epoch 5 / 100: Loss = 1.805 Acc = 0.24\n",
            "Epoch 6 / 100: Loss = 1.804 Acc = 0.24\n",
            "Epoch 7 / 100: Loss = 1.802 Acc = 0.24\n",
            "Epoch 8 / 100: Loss = 1.801 Acc = 0.24\n",
            "Epoch 9 / 100: Loss = 1.800 Acc = 0.24\n",
            "Epoch 10 / 100: Loss = 1.798 Acc = 0.25\n",
            "Epoch 11 / 100: Loss = 1.797 Acc = 0.27\n",
            "Epoch 12 / 100: Loss = 1.795 Acc = 0.28\n",
            "Epoch 13 / 100: Loss = 1.792 Acc = 0.29\n",
            "Epoch 14 / 100: Loss = 1.789 Acc = 0.34\n",
            "Epoch 15 / 100: Loss = 1.785 Acc = 0.37\n",
            "Epoch 16 / 100: Loss = 1.780 Acc = 0.40\n",
            "Epoch 17 / 100: Loss = 1.772 Acc = 0.40\n",
            "Epoch 18 / 100: Loss = 1.762 Acc = 0.41\n",
            "Epoch 19 / 100: Loss = 1.751 Acc = 0.42\n",
            "Epoch 20 / 100: Loss = 1.737 Acc = 0.42\n",
            "Epoch 21 / 100: Loss = 1.723 Acc = 0.42\n",
            "Epoch 22 / 100: Loss = 1.703 Acc = 0.42\n",
            "Epoch 23 / 100: Loss = 1.681 Acc = 0.43\n",
            "Epoch 24 / 100: Loss = 1.649 Acc = 0.43\n",
            "Epoch 25 / 100: Loss = 1.619 Acc = 0.43\n",
            "Epoch 26 / 100: Loss = 1.584 Acc = 0.45\n",
            "Epoch 27 / 100: Loss = 1.538 Acc = 0.45\n",
            "Epoch 28 / 100: Loss = 1.503 Acc = 0.45\n",
            "Epoch 29 / 100: Loss = 1.453 Acc = 0.46\n",
            "Epoch 30 / 100: Loss = 1.411 Acc = 0.47\n",
            "Epoch 31 / 100: Loss = 1.374 Acc = 0.47\n",
            "Epoch 32 / 100: Loss = 1.342 Acc = 0.47\n",
            "Epoch 33 / 100: Loss = 1.310 Acc = 0.47\n",
            "Epoch 34 / 100: Loss = 1.282 Acc = 0.47\n",
            "Epoch 35 / 100: Loss = 1.271 Acc = 0.47\n",
            "Epoch 36 / 100: Loss = 1.244 Acc = 0.48\n",
            "Epoch 37 / 100: Loss = 1.224 Acc = 0.49\n",
            "Epoch 38 / 100: Loss = 1.239 Acc = 0.49\n",
            "Epoch 39 / 100: Loss = 1.191 Acc = 0.52\n",
            "Epoch 40 / 100: Loss = 1.169 Acc = 0.53\n",
            "Epoch 41 / 100: Loss = 1.152 Acc = 0.53\n",
            "Epoch 42 / 100: Loss = 1.141 Acc = 0.54\n",
            "Epoch 43 / 100: Loss = 1.125 Acc = 0.54\n",
            "Epoch 44 / 100: Loss = 1.120 Acc = 0.56\n",
            "Epoch 45 / 100: Loss = 1.106 Acc = 0.56\n",
            "Epoch 46 / 100: Loss = 1.098 Acc = 0.57\n",
            "Epoch 47 / 100: Loss = 1.083 Acc = 0.58\n",
            "Epoch 48 / 100: Loss = 1.089 Acc = 0.58\n",
            "Epoch 49 / 100: Loss = 1.064 Acc = 0.59\n",
            "Epoch 50 / 100: Loss = 1.058 Acc = 0.57\n",
            "Epoch 51 / 100: Loss = 1.087 Acc = 0.57\n",
            "Epoch 52 / 100: Loss = 1.065 Acc = 0.58\n",
            "Epoch 53 / 100: Loss = 1.031 Acc = 0.59\n",
            "Epoch 54 / 100: Loss = 1.018 Acc = 0.59\n",
            "Epoch 55 / 100: Loss = 1.007 Acc = 0.59\n",
            "Epoch 56 / 100: Loss = 1.006 Acc = 0.58\n",
            "Epoch 57 / 100: Loss = 1.012 Acc = 0.59\n",
            "Epoch 58 / 100: Loss = 0.991 Acc = 0.61\n",
            "Epoch 59 / 100: Loss = 0.980 Acc = 0.62\n",
            "Epoch 60 / 100: Loss = 0.973 Acc = 0.65\n",
            "Epoch 61 / 100: Loss = 0.964 Acc = 0.66\n",
            "Epoch 62 / 100: Loss = 0.957 Acc = 0.66\n",
            "Epoch 63 / 100: Loss = 0.952 Acc = 0.66\n",
            "Epoch 64 / 100: Loss = 0.944 Acc = 0.66\n",
            "Epoch 65 / 100: Loss = 0.933 Acc = 0.66\n",
            "Epoch 66 / 100: Loss = 0.931 Acc = 0.66\n",
            "Epoch 67 / 100: Loss = 0.919 Acc = 0.67\n",
            "Epoch 68 / 100: Loss = 0.909 Acc = 0.66\n",
            "Epoch 69 / 100: Loss = 0.901 Acc = 0.66\n",
            "Epoch 70 / 100: Loss = 0.894 Acc = 0.66\n",
            "Epoch 71 / 100: Loss = 0.880 Acc = 0.66\n",
            "Epoch 72 / 100: Loss = 0.874 Acc = 0.67\n",
            "Epoch 73 / 100: Loss = 0.866 Acc = 0.67\n",
            "Epoch 74 / 100: Loss = 0.849 Acc = 0.67\n",
            "Epoch 75 / 100: Loss = 0.830 Acc = 0.67\n",
            "Epoch 76 / 100: Loss = 0.817 Acc = 0.67\n",
            "Epoch 77 / 100: Loss = 0.808 Acc = 0.67\n",
            "Epoch 78 / 100: Loss = 0.801 Acc = 0.67\n",
            "Epoch 79 / 100: Loss = 0.793 Acc = 0.67\n",
            "Epoch 80 / 100: Loss = 0.786 Acc = 0.67\n",
            "Epoch 81 / 100: Loss = 0.776 Acc = 0.68\n",
            "Epoch 82 / 100: Loss = 0.768 Acc = 0.68\n",
            "Epoch 83 / 100: Loss = 0.762 Acc = 0.68\n",
            "Epoch 84 / 100: Loss = 0.757 Acc = 0.68\n",
            "Epoch 85 / 100: Loss = 0.753 Acc = 0.68\n",
            "Epoch 86 / 100: Loss = 0.748 Acc = 0.68\n",
            "Epoch 87 / 100: Loss = 0.745 Acc = 0.68\n",
            "Epoch 88 / 100: Loss = 0.744 Acc = 0.68\n",
            "Epoch 89 / 100: Loss = 0.740 Acc = 0.67\n",
            "Epoch 90 / 100: Loss = 0.737 Acc = 0.68\n",
            "Epoch 91 / 100: Loss = 0.734 Acc = 0.67\n",
            "Epoch 92 / 100: Loss = 0.729 Acc = 0.68\n",
            "Epoch 93 / 100: Loss = 0.727 Acc = 0.68\n",
            "Epoch 94 / 100: Loss = 0.773 Acc = 0.66\n",
            "Epoch 95 / 100: Loss = 0.738 Acc = 0.68\n",
            "Epoch 96 / 100: Loss = 0.728 Acc = 0.68\n",
            "Epoch 97 / 100: Loss = 0.723 Acc = 0.68\n",
            "Epoch 98 / 100: Loss = 0.719 Acc = 0.68\n",
            "Epoch 99 / 100: Loss = 0.718 Acc = 0.68\n",
            "Epoch 100 / 100: Loss = 0.716 Acc = 0.68\n"
          ]
        }
      ],
      "source": [
        "history_quantum = train(model_quantum, n_epochs)"
      ]
    },
    {
      "cell_type": "markdown",
      "metadata": {
        "id": "1NUjjUAJzxMH"
      },
      "source": [
        "### Plotting\n"
      ]
    },
    {
      "cell_type": "code",
      "execution_count": null,
      "metadata": {
        "id": "C7cEA5-5zxMH"
      },
      "outputs": [],
      "source": [
        "from matplotlib import pyplot as plt\n",
        "\n",
        "def plot_history(history_classical, history_quantum):\n",
        "    loss_c = history_classical['loss']\n",
        "    acc_c = history_classical['acc']\n",
        "    loss_q = history_quantum['loss']\n",
        "    acc_q = history_quantum['acc']\n",
        "    n_epochs = max([len(loss_c), len(loss_q)])\n",
        "    x_epochs = [i for i in range(n_epochs)]\n",
        "\n",
        "    fig, ax1 = plt.subplots()\n",
        "\n",
        "    ax1.set_xlabel(\"Epoch\")\n",
        "    ax1.set_ylabel(\"Loss\")\n",
        "    ax1.plot(loss_c, label=\"Classical LSTM loss\", color='orange', linestyle='dashed')\n",
        "    ax1.plot(loss_q, label=\"Quantum LSTM loss\", color='red', linestyle='solid')\n",
        "\n",
        "    ax2 = ax1.twinx()\n",
        "    ax2.set_ylabel(\"Accuracy\")\n",
        "    ax2.plot(acc_c, label=\"Classical LSTM accuracy\", color='steelblue', linestyle='dashed')\n",
        "    ax2.plot(acc_q, label=\"Quantum LSTM accuracy\", color='blue', linestyle='solid')\n",
        "\n",
        "    plt.title(\"Part-of-Speech Tagger Training\")\n",
        "    plt.ylim(0., 1.1)\n",
        "    #plt.legend(loc=\"upper right\")\n",
        "    fig.legend(loc=\"upper left\", bbox_to_anchor=(1,0.8), bbox_transform=ax1.transAxes)\n",
        "\n",
        "    plt.savefig(\"pos_training.pdf\")\n",
        "    plt.savefig(\"pos_training.png\")\n",
        "    plt.show()"
      ]
    },
    {
      "cell_type": "code",
      "execution_count": 36,
      "metadata": {},
      "outputs": [
        {
          "name": "stdout",
          "output_type": "stream",
          "text": [
            "     ┌─────────────┐ ┌─────────────┐┌─────────────┐      ┌─────────────┐»\n",
            "q_0: ┤ Ry(0.95669) ├─┤ Rx(0.50881) ├┤ Ry(0.73873) ├───■──┤ Rz(0.68896) ├»\n",
            "     ├─────────────┴┐├─────────────┤├─────────────┤ ┌─┴─┐└─────────────┘»\n",
            "q_1: ┤ Ry(0.092732) ├┤ Rx(0.52933) ├┤ Ry(0.22593) ├─┤ X ├───────■───────»\n",
            "     ├─────────────┬┘├─────────────┤├─────────────┴┐└───┘     ┌─┴─┐     »\n",
            "q_2: ┤ Ry(0.15185) ├─┤ Rx(0.60842) ├┤ Ry(0.088671) ├──────────┤ X ├─────»\n",
            "     ├─────────────┤ ├─────────────┤├─────────────┬┘          └───┘     »\n",
            "q_3: ┤ Ry(0.95669) ├─┤ Rx(0.59844) ├┤ Ry(0.17936) ├─────────────────────»\n",
            "     └─────────────┘ └─────────────┘└─────────────┘                     »\n",
            "c: 4/═══════════════════════════════════════════════════════════════════»\n",
            "                                                                        »\n",
            "«                                       ┌─┐            \n",
            "«q_0: ──────────────────────■───────────┤M├────────────\n",
            "«     ┌─────────────┐       │           └╥┘   ┌─┐      \n",
            "«q_1: ┤ Rz(0.95585) ├───────■─────────■──╫────┤M├──────\n",
            "«     └─────────────┘┌──────────────┐ │  ║    └╥┘┌─┐   \n",
            "«q_2: ───────■───────┤ Rz(0.084873) ├─■──╫──■──╫─┤M├───\n",
            "«          ┌─┴─┐     └┬────────────┬┘    ║  │  ║ └╥┘┌─┐\n",
            "«q_3: ─────┤ X ├──────┤ Rz(0.5135) ├─────╫──■──╫──╫─┤M├\n",
            "«          └───┘      └────────────┘     ║     ║  ║ └╥┘\n",
            "«c: 4/═══════════════════════════════════╩═════╩══╩══╩═\n",
            "«                                        0     1  2  3 \n"
          ]
        },
        {
          "data": {
            "image/png": "[encoded data removed]",
            "text/plain": [
              "<Figure size 1207.22x451.5 with 1 Axes>"
            ]
          },
          "execution_count": 36,
          "metadata": {},
          "output_type": "execute_result"
        }
      ],
      "source": [
        "from qiskit import QuantumCircuit, QuantumRegister, ClassicalRegister\n",
        "from qiskit.visualization import circuit_drawer\n",
        "import numpy as np\n",
        "\n",
        "def create_qiskit_circuit(n_qubits, inputs, weights):\n",
        "    \"\"\"\n",
        "    Create a Qiskit circuit equivalent to the PennyLane circuit\n",
        "    \n",
        "    Args:\n",
        "        n_qubits (int): Number of qubits\n",
        "        inputs (array-like): Input data for amplitude embedding\n",
        "        weights (array-like): Circuit weights (shape: [3, n_qubits])\n",
        "    \"\"\"\n",
        "    # Create quantum and classical registers\n",
        "    qr = QuantumRegister(n_qubits, 'q')\n",
        "    cr = ClassicalRegister(n_qubits, 'c')\n",
        "    circuit = QuantumCircuit(qr, cr)\n",
        "    \n",
        "    # Amplitude Embedding (simplified version)\n",
        "    # In practice, you'd need a more complex implementation for proper amplitude embedding\n",
        "    for i in range(n_qubits):\n",
        "        circuit.ry(inputs[i % len(inputs)], qr[i])\n",
        "    \n",
        "    # First variational layer\n",
        "    for i in range(n_qubits):\n",
        "        circuit.rx(weights[0][i], qr[i])  # RX gates\n",
        "    \n",
        "    for i in range(n_qubits):\n",
        "        circuit.ry(weights[1][i], qr[i])  # RY gates\n",
        "    \n",
        "    # CNOT chain\n",
        "    for i in range(n_qubits-1):\n",
        "        circuit.cx(qr[i], qr[i+1])\n",
        "    \n",
        "    # Second variational layer\n",
        "    for i in range(n_qubits):\n",
        "        circuit.rz(weights[2][i], qr[i])  # RZ gates\n",
        "    \n",
        "    # CZ chain\n",
        "    for i in range(n_qubits-1):\n",
        "        circuit.cz(qr[i], qr[i+1])\n",
        "    \n",
        "    # Measure all qubits\n",
        "    circuit.measure(qr, cr)\n",
        "    \n",
        "    return circuit\n",
        "\n",
        "# Create example inputs and weights\n",
        "n_qubits = 4\n",
        "inputs = np.random.random(3)  # 3 input values\n",
        "weights = np.random.random((3, n_qubits))  # 3 layers of weights\n",
        "\n",
        "# Create the circuit\n",
        "circuit = create_qiskit_circuit(n_qubits, inputs, weights)\n",
        "\n",
        "# Draw the circuit\n",
        "print(circuit.draw(output='text'))\n",
        "\n",
        "# For a more detailed visualization, you can also save it as an image\n",
        "circuit.draw(output='mpl', filename='qiskit_circuit.png')"
      ]
    },
    {
      "cell_type": "code",
      "execution_count": null,
      "metadata": {
        "id": "lLcl-OleMd_l"
      },
      "outputs": [],
      "source": [
        "import pennylane as qml\n",
        "\n",
        "def visualize_circuit(qlayer, inputs, weights):\n",
        "    \"\"\"Visualizes the quantum circuit using PennyLane's built-in drawing capabilities.\n",
        "\n",
        "    Args:\n",
        "        qlayer: The PennyLane QNode representing the quantum layer.\n",
        "        inputs: The input data for the circuit.\n",
        "        weights: The weights of the circuit.\n",
        "\n",
        "    Returns:\n",
        "        None (displays the circuit diagram).\n",
        "    \"\"\"\n",
        "\n",
        "    # Convert inputs and weights to numpy if necessary\n",
        "    inputs_np = inputs.detach().numpy() if isinstance(inputs, torch.Tensor) else inputs\n",
        "    weights_np = weights.detach().numpy() if isinstance(weights, torch.Tensor) else weights\n",
        "\n",
        "    # Execute the QNode once to generate the tape\n",
        "    qlayer(inputs_np, weights_np)  # Run the QNode to populate its tape\n",
        "\n",
        "    # Access the tape from the QNode\n",
        "    tape = qlayer.qtape\n",
        "\n",
        "    # Draw the circuit diagram using PennyLane's built-in function\n",
        "    # We'll use qml.draw (not qml.drawer.draw) which doesn't require expansion_strategy\n",
        "    print(qml.draw(qlayer)(inputs_np, weights_np))"
      ]
    },
    {
      "cell_type": "code",
      "execution_count": null,
      "metadata": {
        "colab": {
          "base_uri": "https://localhost:8080/"
        },
        "id": "9-ogpYpaMnqF",
        "outputId": "6420cac7-b03e-4723-d313-36d43a1b07ca"
      },
      "outputs": [
        {
          "name": "stdout",
          "output_type": "stream",
          "text": [
            "weight_shapes = (n_qlayers, n_qubits) = (1, 4)\n",
            "wire_forget_0: ─╭AngleEmbedding(M0)─╭BasicEntanglerLayers(M1)─┤  <Z>\n",
            "wire_forget_1: ─├AngleEmbedding(M0)─├BasicEntanglerLayers(M1)─┤  <Z>\n",
            "wire_forget_2: ─╰AngleEmbedding(M0)─├BasicEntanglerLayers(M1)─┤  <Z>\n",
            "wire_forget_3: ─────────────────────╰BasicEntanglerLayers(M1)─┤  <Z>\n",
            "\n",
            "M0 = \n",
            "[0.499173  0.7046517 0.9285828]\n",
            "M1 = \n",
            "[[0.12340081 0.14831817 0.89480895 0.20837808]]\n"
          ]
        }
      ],
      "source": [
        "qlstm = QLSTM(input_size=3, hidden_size=2, n_qubits=4)\n",
        "inputs = torch.rand(qlstm.n_inputs)\n",
        "weights = torch.rand((qlstm.n_qlayers, qlstm.n_qubits))\n",
        "\n",
        "# Visualize the forget gate circuit\n",
        "visualize_circuit(qlstm.qlayer_forget, inputs, weights)"
      ]
    },
    {
      "cell_type": "code",
      "execution_count": null,
      "metadata": {
        "colab": {
          "base_uri": "https://localhost:8080/",
          "height": 472
        },
        "id": "XC703gjrzxMH",
        "outputId": "4b019888-efe3-4946-994a-47adbbe83345"
      },
      "outputs": [
        {
          "data": {
            "image/png": "[encoded data removed]",
            "text/plain": [
              "<Figure size 640x480 with 2 Axes>"
            ]
          },
          "metadata": {},
          "output_type": "display_data"
        }
      ],
      "source": [
        "plot_history(history_classical, history_quantum)"
      ]
    },
    {
      "cell_type": "code",
      "execution_count": null,
      "metadata": {
        "id": "KGmVMAiI7a7O"
      },
      "outputs": [],
      "source": []
    }
  ],
  "metadata": {
    "colab": {
      "provenance": []
    },
    "kernelspec": {
      "display_name": "Python 3 (ipykernel)",
      "language": "python",
      "name": "python3"
    },
    "language_info": {
      "codemirror_mode": {
        "name": "ipython",
        "version": 3
      },
      "file_extension": ".py",
      "mimetype": "text/x-python",
      "name": "python",
      "nbconvert_exporter": "python",
      "pygments_lexer": "ipython3",
      "version": "3.12.2"
    }
  },
  "nbformat": 4,
  "nbformat_minor": 0
}
